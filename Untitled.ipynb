{
 "cells": [
  {
   "cell_type": "markdown",
   "metadata": {},
   "source": [
    "# Data pre-processing and visualization"
   ]
  },
  {
   "cell_type": "markdown",
   "metadata": {},
   "source": [
    "The first step in application of machine learning methods is to explore and visualize the available data. This means an understanding of the properties and relationships in a dataset (between the data columns and between the data columns and labels).\n",
    "This task is divided into several stages:\n",
    "   - Files containing useful data are uploaded from the folder.\n",
    "   - The size of the data is determined.\n",
    "   - For each file, it is necessary to check whether the type of the data in columns corresponds to the type that is expected.This also gives an insight if the data is numerical, categorical or mixed.\n",
    "   - In general cases, it can happen that some cells are empty, or contain NaN values. Because of this, check for empty cells is performed as an example even if it is not expected that this error arise from the sensors' data.\n",
    "   - Using Pandas method `describe`,some statistical summary is gained.\n",
    "   - Some basic plots are presented in order to describe the nature of the data from the sensors."
   ]
  },
  {
   "cell_type": "code",
   "execution_count": 1,
   "metadata": {},
   "outputs": [],
   "source": [
    "import pandas as pd\n",
    "import numpy as np\n",
    "import matplotlib.pyplot as plt\n",
    "import seaborn as sns\n",
    "import os,sys\n",
    "import ipywidgets as widgets\n",
    "from ipywidgets import interact, interact_manual\n",
    "import h5py\n",
    "from scipy import signal"
   ]
  },
  {
   "cell_type": "markdown",
   "metadata": {},
   "source": [
    "### Files upload, data size and type"
   ]
  },
  {
   "cell_type": "markdown",
   "metadata": {},
   "source": [
    "Uploading 81 files which correspond to 81 production parts."
   ]
  },
  {
   "cell_type": "code",
   "execution_count": 2,
   "metadata": {},
   "outputs": [],
   "source": [
    "scope_traces=[] #this will be the list of dataframes\n",
    "file_names=os.listdir('Data/AFRC Radial Forge - Zenodoo Upload v3/Data/ScopeTraces')"
   ]
  },
  {
   "cell_type": "markdown",
   "metadata": {},
   "source": [
    "Upload check"
   ]
  },
  {
   "cell_type": "code",
   "execution_count": 3,
   "metadata": {},
   "outputs": [
    {
     "data": {
      "text/plain": [
       "'Scope0001.csv'"
      ]
     },
     "execution_count": 3,
     "metadata": {},
     "output_type": "execute_result"
    }
   ],
   "source": [
    "file_names[0]"
   ]
  },
  {
   "cell_type": "markdown",
   "metadata": {},
   "source": [
    "Creating the list of dataframes for the uploaded files:"
   ]
  },
  {
   "cell_type": "code",
   "execution_count": 4,
   "metadata": {},
   "outputs": [],
   "source": [
    "for file in file_names:\n",
    "    df=pd.read_csv(\"Data\\\\AFRC Radial Forge - Zenodoo Upload v3\\\\Data\\\\ScopeTraces\\\\\"+file,encoding = 'unicode_escape') \n",
    "    scope_traces.append(df)"
   ]
  },
  {
   "cell_type": "code",
   "execution_count": 5,
   "metadata": {},
   "outputs": [
    {
     "data": {
      "text/plain": [
       "pandas.core.frame.DataFrame"
      ]
     },
     "execution_count": 5,
     "metadata": {},
     "output_type": "execute_result"
    }
   ],
   "source": [
    "type(scope_traces[0]) #checking the type of element in the list (dataframe)"
   ]
  },
  {
   "cell_type": "markdown",
   "metadata": {},
   "source": [
    "A total number of 81 files (81 sensors' cycles or 81 produced parts per day in the forging process) is analyzed. The first file contains 23328 rows (corresponding to the time samples from 97 sensors). Later, it is going to be discovered that the number of rows differs among all files."
   ]
  },
  {
   "cell_type": "code",
   "execution_count": 6,
   "metadata": {},
   "outputs": [
    {
     "data": {
      "text/html": [
       "<div>\n",
       "<style scoped>\n",
       "    .dataframe tbody tr th:only-of-type {\n",
       "        vertical-align: middle;\n",
       "    }\n",
       "\n",
       "    .dataframe tbody tr th {\n",
       "        vertical-align: top;\n",
       "    }\n",
       "\n",
       "    .dataframe thead th {\n",
       "        text-align: right;\n",
       "    }\n",
       "</style>\n",
       "<table border=\"1\" class=\"dataframe\">\n",
       "  <thead>\n",
       "    <tr style=\"text-align: right;\">\n",
       "      <th></th>\n",
       "      <th>Timer Tick [ms]</th>\n",
       "      <th>Block-Nr</th>\n",
       "      <th>Power [kW]</th>\n",
       "      <th>Force [kN]</th>\n",
       "      <th>A_ges_vibr</th>\n",
       "      <th>Schlagzahl [1/min]</th>\n",
       "      <th>EXZ_pos [deg]</th>\n",
       "      <th>hydraulic low pressure [bar]</th>\n",
       "      <th>hydraulic high pressure [bar]</th>\n",
       "      <th>A_ACTpos [mm]</th>\n",
       "      <th>...</th>\n",
       "      <th>O_MASTOP</th>\n",
       "      <th>c01w</th>\n",
       "      <th>c02w</th>\n",
       "      <th>$U_GH_NOMVAL_1 (U25W1)</th>\n",
       "      <th>$H1P_Y12 (U11S17)</th>\n",
       "      <th>$H1P_Y11 (U11S7)</th>\n",
       "      <th>$U_GH_NOMEXT_2 (U26S1)</th>\n",
       "      <th>$U_GH_HEATON_2 (U26S0)</th>\n",
       "      <th>$U_GH_NOMEXT_1 (U25S1)</th>\n",
       "      <th>$U_GH_HEATON_1 (U25S0).1</th>\n",
       "    </tr>\n",
       "  </thead>\n",
       "  <tbody>\n",
       "    <tr>\n",
       "      <th>0</th>\n",
       "      <td>2594955190</td>\n",
       "      <td>10</td>\n",
       "      <td>50.453915</td>\n",
       "      <td>0.0</td>\n",
       "      <td>7.880536</td>\n",
       "      <td>1207.22081</td>\n",
       "      <td>31.204766</td>\n",
       "      <td>115.256693</td>\n",
       "      <td>202.028443</td>\n",
       "      <td>1207.685</td>\n",
       "      <td>...</td>\n",
       "      <td>0</td>\n",
       "      <td>1</td>\n",
       "      <td>0</td>\n",
       "      <td>0</td>\n",
       "      <td>0</td>\n",
       "      <td>1</td>\n",
       "      <td>1</td>\n",
       "      <td>0</td>\n",
       "      <td>1</td>\n",
       "      <td>0</td>\n",
       "    </tr>\n",
       "    <tr>\n",
       "      <th>1</th>\n",
       "      <td>2594955200</td>\n",
       "      <td>10</td>\n",
       "      <td>50.454423</td>\n",
       "      <td>0.0</td>\n",
       "      <td>6.334391</td>\n",
       "      <td>1209.64038</td>\n",
       "      <td>103.758477</td>\n",
       "      <td>115.233426</td>\n",
       "      <td>201.954750</td>\n",
       "      <td>1207.685</td>\n",
       "      <td>...</td>\n",
       "      <td>0</td>\n",
       "      <td>1</td>\n",
       "      <td>0</td>\n",
       "      <td>0</td>\n",
       "      <td>0</td>\n",
       "      <td>1</td>\n",
       "      <td>1</td>\n",
       "      <td>0</td>\n",
       "      <td>1</td>\n",
       "      <td>0</td>\n",
       "    </tr>\n",
       "    <tr>\n",
       "      <th>2</th>\n",
       "      <td>2594955210</td>\n",
       "      <td>10</td>\n",
       "      <td>50.453662</td>\n",
       "      <td>0.0</td>\n",
       "      <td>5.486467</td>\n",
       "      <td>1205.96980</td>\n",
       "      <td>176.092461</td>\n",
       "      <td>115.138935</td>\n",
       "      <td>201.898792</td>\n",
       "      <td>1207.680</td>\n",
       "      <td>...</td>\n",
       "      <td>0</td>\n",
       "      <td>1</td>\n",
       "      <td>0</td>\n",
       "      <td>0</td>\n",
       "      <td>0</td>\n",
       "      <td>1</td>\n",
       "      <td>1</td>\n",
       "      <td>0</td>\n",
       "      <td>1</td>\n",
       "      <td>0</td>\n",
       "    </tr>\n",
       "    <tr>\n",
       "      <th>3</th>\n",
       "      <td>2594955220</td>\n",
       "      <td>10</td>\n",
       "      <td>50.450142</td>\n",
       "      <td>0.0</td>\n",
       "      <td>114.403358</td>\n",
       "      <td>1210.00307</td>\n",
       "      <td>248.690117</td>\n",
       "      <td>114.985305</td>\n",
       "      <td>201.841733</td>\n",
       "      <td>1207.550</td>\n",
       "      <td>...</td>\n",
       "      <td>0</td>\n",
       "      <td>1</td>\n",
       "      <td>0</td>\n",
       "      <td>0</td>\n",
       "      <td>0</td>\n",
       "      <td>1</td>\n",
       "      <td>1</td>\n",
       "      <td>0</td>\n",
       "      <td>1</td>\n",
       "      <td>0</td>\n",
       "    </tr>\n",
       "    <tr>\n",
       "      <th>4</th>\n",
       "      <td>2594955230</td>\n",
       "      <td>10</td>\n",
       "      <td>50.447115</td>\n",
       "      <td>0.0</td>\n",
       "      <td>381.107631</td>\n",
       "      <td>1209.25234</td>\n",
       "      <td>321.024102</td>\n",
       "      <td>114.858741</td>\n",
       "      <td>201.783774</td>\n",
       "      <td>1207.240</td>\n",
       "      <td>...</td>\n",
       "      <td>0</td>\n",
       "      <td>1</td>\n",
       "      <td>0</td>\n",
       "      <td>0</td>\n",
       "      <td>0</td>\n",
       "      <td>1</td>\n",
       "      <td>1</td>\n",
       "      <td>0</td>\n",
       "      <td>1</td>\n",
       "      <td>0</td>\n",
       "    </tr>\n",
       "  </tbody>\n",
       "</table>\n",
       "<p>5 rows × 99 columns</p>\n",
       "</div>"
      ],
      "text/plain": [
       "   Timer Tick [ms]  Block-Nr  Power [kW]  Force [kN]  A_ges_vibr  \\\n",
       "0       2594955190        10   50.453915         0.0    7.880536   \n",
       "1       2594955200        10   50.454423         0.0    6.334391   \n",
       "2       2594955210        10   50.453662         0.0    5.486467   \n",
       "3       2594955220        10   50.450142         0.0  114.403358   \n",
       "4       2594955230        10   50.447115         0.0  381.107631   \n",
       "\n",
       "   Schlagzahl [1/min]  EXZ_pos [deg]  hydraulic low pressure [bar]  \\\n",
       "0          1207.22081      31.204766                    115.256693   \n",
       "1          1209.64038     103.758477                    115.233426   \n",
       "2          1205.96980     176.092461                    115.138935   \n",
       "3          1210.00307     248.690117                    114.985305   \n",
       "4          1209.25234     321.024102                    114.858741   \n",
       "\n",
       "   hydraulic high pressure [bar]  A_ACTpos [mm]  ...  O_MASTOP  c01w  c02w  \\\n",
       "0                     202.028443       1207.685  ...         0     1     0   \n",
       "1                     201.954750       1207.685  ...         0     1     0   \n",
       "2                     201.898792       1207.680  ...         0     1     0   \n",
       "3                     201.841733       1207.550  ...         0     1     0   \n",
       "4                     201.783774       1207.240  ...         0     1     0   \n",
       "\n",
       "   $U_GH_NOMVAL_1 (U25W1)  $H1P_Y12 (U11S17)  $H1P_Y11 (U11S7)  \\\n",
       "0                       0                  0                 1   \n",
       "1                       0                  0                 1   \n",
       "2                       0                  0                 1   \n",
       "3                       0                  0                 1   \n",
       "4                       0                  0                 1   \n",
       "\n",
       "   $U_GH_NOMEXT_2 (U26S1)  $U_GH_HEATON_2 (U26S0)  $U_GH_NOMEXT_1 (U25S1)  \\\n",
       "0                       1                       0                       1   \n",
       "1                       1                       0                       1   \n",
       "2                       1                       0                       1   \n",
       "3                       1                       0                       1   \n",
       "4                       1                       0                       1   \n",
       "\n",
       "   $U_GH_HEATON_1 (U25S0).1  \n",
       "0                         0  \n",
       "1                         0  \n",
       "2                         0  \n",
       "3                         0  \n",
       "4                         0  \n",
       "\n",
       "[5 rows x 99 columns]"
      ]
     },
     "execution_count": 6,
     "metadata": {},
     "output_type": "execute_result"
    }
   ],
   "source": [
    "scope_traces[0].head()"
   ]
  },
  {
   "cell_type": "code",
   "execution_count": 7,
   "metadata": {},
   "outputs": [
    {
     "data": {
      "text/plain": [
       "(23328, 99)"
      ]
     },
     "execution_count": 7,
     "metadata": {},
     "output_type": "execute_result"
    }
   ],
   "source": [
    "scope_traces[0].shape #file size"
   ]
  },
  {
   "cell_type": "markdown",
   "metadata": {},
   "source": [
    "For each dataframe, it is possible to check the type of values in all columns. It is expected that all values are integers *int* or real numbers *float64* because they represent measuring data from the sensors. To demonstrate this step, it will be done on one file."
   ]
  },
  {
   "cell_type": "markdown",
   "metadata": {},
   "source": [
    "### Check for missing values"
   ]
  },
  {
   "cell_type": "markdown",
   "metadata": {},
   "source": [
    "Function *check_empty* checks whether the file contains empty cells. Here, it is supposed that empty cell is a blank cell (\" \")."
   ]
  },
  {
   "cell_type": "code",
   "execution_count": null,
   "metadata": {},
   "outputs": [],
   "source": [
    "def check_empty(trace):\n",
    "    empty_cell=(trace.astype(np.object) == '').any()\n",
    "    [print(\"Empty_cell\") for x in empty_cell if x==True]"
   ]
  },
  {
   "cell_type": "code",
   "execution_count": null,
   "metadata": {},
   "outputs": [],
   "source": [
    "for i in range(len(scope_traces)): #check for all of 81 files\n",
    "    print(i, end=\"\\r\") \n",
    "    check_empty(scope_traces[i])"
   ]
  },
  {
   "cell_type": "markdown",
   "metadata": {},
   "source": [
    "### Statistical summary"
   ]
  },
  {
   "cell_type": "markdown",
   "metadata": {},
   "source": [
    "Based on the previous notebook, in which changes in signals and peaks were observed, sensors are divided into two groups: forging and heating for each produced part. These sensors were chosen based on their importance for the heating or forging phases. It is important to notice that some sensors were dropped because they are not in use, or because they are described as auxiliary sensors. "
   ]
  },
  {
   "cell_type": "code",
   "execution_count": 9,
   "metadata": {},
   "outputs": [],
   "source": [
    "forging_sensors=np.zeros((len(scope_traces), *scope_traces[0].shape))\n",
    "\n",
    "forging_sensors=[scope_traces[part][['Force [kN]', 'A_ges_vibr', 'A_ACTpos [mm]', 'DB_ACTpos [mm]',\n",
    "       'INDA_ACTpos [deg]', 'A_ACT_Force [kN]', 'DB_ACT_Force [kN]',\n",
    "       'R_ACTspd [mm/min]', 'SBA_NomPos [mm] [mm]', 'A_ACTspd [mm/min]',\n",
    "       'DB_ACTspd [mm/min]', 'Feedback SBA [%]', 'Frc_Volt',\n",
    "       'Speed Vn_1 [rpm]', 'IP_ActPos [mm]', 'TMP_Ind_F [°C]', 'c02w']] for part in range(len(scope_traces))] "
   ]
  },
  {
   "cell_type": "code",
   "execution_count": 10,
   "metadata": {},
   "outputs": [],
   "source": [
    "heating_sensors=np.zeros((len(scope_traces), *scope_traces[0].shape))\n",
    "heating_sensors=[scope_traces[part][['TMP_Ind_U1 [°C]']] for part in range(len(scope_traces))]"
   ]
  },
  {
   "cell_type": "markdown",
   "metadata": {},
   "source": [
    "Statistical overview of the sensors is made by function *df_summary*. This is demonstrated for the first production part only, but if this function runs for other parts, the difference in sensors' cycles (duration of the production of each part) can be seen by the `count`property. It can be noticed that for some sensors standard deviation from the mean value is very high. Also, the median value much differs from the mean value in some cases. This situation implies that it might be useful to extract the heating and forging phase instead of analyzing the signals for the whole production process. "
   ]
  },
  {
   "cell_type": "code",
   "execution_count": 11,
   "metadata": {},
   "outputs": [],
   "source": [
    "def df_summary(part):\n",
    "    print(\"Part\", part.describe())"
   ]
  },
  {
   "cell_type": "code",
   "execution_count": 12,
   "metadata": {},
   "outputs": [
    {
     "name": "stdout",
     "output_type": "stream",
     "text": [
      "Part          Force [kN]    A_ges_vibr  A_ACTpos [mm]  DB_ACTpos [mm]  \\\n",
      "count  23328.000000  2.332800e+04   23328.000000    23328.000000   \n",
      "mean      72.051076  9.568536e+01    1025.345758      364.480135   \n",
      "std      191.281782  4.153424e+02     359.548996       58.447615   \n",
      "min        0.000000  9.372094e-08     211.380000      305.155000   \n",
      "25%        0.000000  5.569652e+00    1199.995000      350.000000   \n",
      "50%        0.000000  8.579493e+00    1200.140000      350.000000   \n",
      "75%        0.000000  1.099275e+01    1200.150000      350.000000   \n",
      "max      845.614453  1.383277e+04    1207.685000      797.995000   \n",
      "\n",
      "       INDA_ACTpos [deg]  A_ACT_Force [kN]  DB_ACT_Force [kN]  \\\n",
      "count       23328.000000      23328.000000       23328.000000   \n",
      "mean          305.997337         -0.665184           0.433149   \n",
      "std           110.708463          4.587761           1.210767   \n",
      "min             0.024000        -27.407163         -16.082978   \n",
      "25%           359.904000         -2.916983           0.223536   \n",
      "50%           359.928000         -1.099517           0.644517   \n",
      "75%           359.928000          0.821348           0.886490   \n",
      "max           359.940000         40.340303           9.701094   \n",
      "\n",
      "       R_ACTspd [mm/min]  SBA_NomPos [mm] [mm]  A_ACTspd [mm/min]  \\\n",
      "count       23328.000000          23328.000000       23328.000000   \n",
      "mean            3.854484             -0.000126          -1.985829   \n",
      "std           103.982720              1.622600        3302.175305   \n",
      "min          -218.175569             -5.363997      -29618.928400   \n",
      "25%            -0.024168              0.000000          -1.805455   \n",
      "50%            -0.000833              0.000000           0.581701   \n",
      "75%             0.024695              0.000000           2.458675   \n",
      "max           473.539446              5.363997       29777.202600   \n",
      "\n",
      "       DB_ACTspd [mm/min]  Feedback SBA [%]      Frc_Volt  Speed Vn_1 [rpm]  \\\n",
      "count        2.332800e+04      23328.000000  23328.000000      23328.000000   \n",
      "mean        -7.673348e+01         -9.641030      1.134288         10.553063   \n",
      "std          1.181026e+03         12.008878      0.300756         27.223410   \n",
      "min         -9.872690e+03        -50.439453      0.986328        -50.076116   \n",
      "25%         -1.373455e-01         -9.667969      1.010742          0.000000   \n",
      "50%          3.816883e-36         -9.667969      1.015625          0.000000   \n",
      "75%          1.005737e-02         -9.667969      1.030273          0.000000   \n",
      "max          9.932820e+03         32.690430      4.194336        122.499799   \n",
      "\n",
      "       IP_ActPos [mm]  TMP_Ind_F [°C]          c02w  \n",
      "count    23328.000000    23328.000000  23328.000000  \n",
      "mean       179.839430      248.817243      0.115826  \n",
      "std        184.910760       23.624598      0.505342  \n",
      "min         40.007812      242.581693      0.000000  \n",
      "25%         40.054688      242.650293      0.000000  \n",
      "50%         40.054688      242.717932      0.000000  \n",
      "75%        430.054688      242.783754      0.000000  \n",
      "max        430.078125      673.354017      4.000000  \n"
     ]
    }
   ],
   "source": [
    "df_summary(forging_sensors[0])"
   ]
  },
  {
   "cell_type": "code",
   "execution_count": 13,
   "metadata": {
    "scrolled": true
   },
   "outputs": [
    {
     "name": "stdout",
     "output_type": "stream",
     "text": [
      "Part        TMP_Ind_U1 [°C]\n",
      "count     23328.000000\n",
      "mean        509.917679\n",
      "std         240.793376\n",
      "min         243.832228\n",
      "25%         243.847656\n",
      "50%         560.400230\n",
      "75%         754.595122\n",
      "max         828.483918\n"
     ]
    }
   ],
   "source": [
    "df_summary(heating_sensors[0])"
   ]
  },
  {
   "cell_type": "markdown",
   "metadata": {},
   "source": [
    "## Extraction of the heating phase and forging phase from the sensors' signals"
   ]
  },
  {
   "cell_type": "markdown",
   "metadata": {},
   "source": [
    "The following analysis is based on the extraction of the heating and forging phase from the sensors. Then, all of the previous steps are repeated. \n",
    "\n",
    "Merge data from all parts into one Dataframe:"
   ]
  },
  {
   "cell_type": "code",
   "execution_count": 14,
   "metadata": {},
   "outputs": [],
   "source": [
    "for index,df in enumerate(scope_traces):\n",
    "    df['traceID'] = index+1"
   ]
  },
  {
   "cell_type": "code",
   "execution_count": 15,
   "metadata": {},
   "outputs": [],
   "source": [
    "merged_data = pd.concat(scope_traces, ignore_index=True)\n",
    "merged_data['Time [s]']=(merged_data.index.values)/100.0"
   ]
  },
  {
   "cell_type": "markdown",
   "metadata": {},
   "source": [
    "Function *extract_heating_phases* uses the value of the sensor \"$U_GH_HEATON_1 (U25S0).1\" greater than zero as reference for the start of the heating phase. When the value becomes zero, it means that heating phase is finished. This phase is extracted only for heating sensors."
   ]
  },
  {
   "cell_type": "code",
   "execution_count": 16,
   "metadata": {},
   "outputs": [],
   "source": [
    "def extract_heating_phases(trace):\n",
    "    heating_start=[]\n",
    "    heating_stop=[]\n",
    "    \n",
    "    digital_sig_heating = trace['$U_GH_HEATON_1 (U25S0).1']>0\n",
    "    heating_diff = digital_sig_heating.astype('int').diff()\n",
    "    heating_start.append(heating_diff[heating_diff==1].index.values) # difference between next cell and previous cell \n",
    "                                                                    #is positive because the heating phase is still active\n",
    "    heating_stop.append(heating_diff[heating_diff==-1].index.values) # difference between next cell and previous cell \n",
    "                                                                    #is negative because the heating phase is finished\n",
    "    heat_list=list(zip(heating_start[0], heating_stop[0]))\n",
    "    heating_ph=[None]*(len(heat_list))\n",
    "                  \n",
    "    heating_ph=[trace[['TMP_Ind_U1 [°C]']][heat_list[i][0]:heat_list[i][1]] for i in range(len(heat_list))] \n",
    "        \n",
    "    return heating_ph\n"
   ]
  },
  {
   "cell_type": "markdown",
   "metadata": {},
   "source": [
    "Function *extract_forging_phases* uses the value of the sensor \"Force [kN]\" greater than zero as reference for the start of the forging phase."
   ]
  },
  {
   "cell_type": "code",
   "execution_count": 17,
   "metadata": {},
   "outputs": [],
   "source": [
    "def extract_forging_phases(trace):\n",
    "    forging_start=[]\n",
    "    forging_end=[]\n",
    "    digital_sig_forge = trace['Force [kN]']>0\n",
    "    forge_diff = digital_sig_forge.astype('int').diff()\n",
    "    forging_start.append(forge_diff[forge_diff==1].index.values)\n",
    "    forging_end.append(forge_diff[forge_diff==-1].index.values) \n",
    "                    \n",
    "    forge_list=list(zip(forging_start[0], forging_end[0]))     \n",
    "    forging_ph=[None]*(len(forge_list))\n",
    "    forging_ph=[trace[['Force [kN]', 'A_ges_vibr', 'A_ACTpos [mm]', 'DB_ACTpos [mm]',\n",
    "       'INDA_ACTpos [deg]', 'A_ACT_Force [kN]', 'DB_ACT_Force [kN]',\n",
    "       'R_ACTspd [mm/min]', 'SBA_NomPos [mm] [mm]', 'A_ACTspd [mm/min]',\n",
    "       'DB_ACTspd [mm/min]', 'Feedback SBA [%]', 'Frc_Volt',\n",
    "       'Speed Vn_1 [rpm]', 'IP_ActPos [mm]', 'TMP_Ind_F [°C]', 'c02w']][forge_list[i][0]:forge_list[i][1]] for i in range(len(forge_list))]\n",
    "    return forging_ph"
   ]
  },
  {
   "cell_type": "code",
   "execution_count": 18,
   "metadata": {},
   "outputs": [],
   "source": [
    "heating_ph=extract_heating_phases(merged_data)"
   ]
  },
  {
   "cell_type": "code",
   "execution_count": 19,
   "metadata": {},
   "outputs": [],
   "source": [
    "forging_ph=extract_forging_phases(merged_data)"
   ]
  },
  {
   "cell_type": "markdown",
   "metadata": {},
   "source": [
    "Minimum duration of heating and forging phase for all parts that were produced:"
   ]
  },
  {
   "cell_type": "code",
   "execution_count": 20,
   "metadata": {},
   "outputs": [
    {
     "name": "stdout",
     "output_type": "stream",
     "text": [
      "Minimum length of time signals  for the heating phase is : 10997 and it is in 63 . cycle\n",
      "Minimum length of time signals  for the forging phase is : 5619 and it is in 44 . cycle\n"
     ]
    }
   ],
   "source": [
    "cycle_length_heat=[None]*(len(heating_ph))\n",
    "cycle_length_forge=[None]*(len(heating_ph))\n",
    "cycle_length_heat=[(heating_ph[i].shape[0]) for i in range(len(heating_ph))]\n",
    "cycle_length_forge=[(forging_ph[i].shape[0]) for i in range(len(heating_ph))]\n",
    "min_length_heat=min(cycle_length_heat)\n",
    "min_length_forge=min(cycle_length_forge)\n",
    "print(\"Minimum length of time signals  for the heating phase is :\",min_length_heat, \"and it is in\",cycle_length_heat.index(min_length_heat),\". cycle\")\n",
    "print(\"Minimum length of time signals  for the forging phase is :\",min_length_forge, \"and it is in\",cycle_length_forge.index(min_length_forge),\". cycle\")    "
   ]
  },
  {
   "cell_type": "markdown",
   "metadata": {},
   "source": [
    "Because of the different length of heating phase and forging phase of time signals, the minimum duration for both phases is extracted. Then, steps for the calculation of statistical summary and correlation coefficients are repeated."
   ]
  },
  {
   "cell_type": "code",
   "execution_count": 21,
   "metadata": {},
   "outputs": [],
   "source": [
    "heating_ph_extracted=[None]*(len(heating_ph))\n",
    "heating_ph_extracted=[heating_ph[x].iloc[:10997,:] for x in range(len(heating_ph))]"
   ]
  },
  {
   "cell_type": "code",
   "execution_count": 22,
   "metadata": {},
   "outputs": [],
   "source": [
    "forging_ph_extracted=[None]*(len(heating_ph))\n",
    "forging_ph_extracted=[forging_ph[x].iloc[:5619,:] for x in range(len(forging_ph))]"
   ]
  },
  {
   "cell_type": "markdown",
   "metadata": {},
   "source": [
    "Pearson correlation coefficients between different sensors are calculated in the next cell. Correlation can have big impact on feature selection. Sensors with big correlation should be detected and they should not be in the same Machine Learning model.Correlation coefficients are calculated as the mean values for 81 parts."
   ]
  },
  {
   "cell_type": "code",
   "execution_count": 24,
   "metadata": {},
   "outputs": [],
   "source": [
    "def calculate_correlation(sensors):\n",
    "    correlation_list=[sensors[i].corr().values for i in range(len(sensors))]\n",
    "    correlation_array=np.array(correlation_list)\n",
    "    print(\"Correlation array dimensions:\",correlation_array.shape)\n",
    "    corr_mean=np.mean(correlation_array,axis=0)\n",
    "    print(\"Mean value of correlation coefficients for all sensors:\")\n",
    "    corr_mean_df=pd.DataFrame(corr_mean,columns=sensors[0].columns,index=sensors[0].columns)\n",
    "    return corr_mean_df.style.background_gradient(cmap='coolwarm').set_precision(2)"
   ]
  },
  {
   "cell_type": "code",
   "execution_count": 25,
   "metadata": {},
   "outputs": [
    {
     "name": "stdout",
     "output_type": "stream",
     "text": [
      "Correlation array dimensions: (81, 17, 17)\n",
      "Mean value of correlation coefficients for all sensors:\n"
     ]
    },
    {
     "data": {
      "text/html": [
       "<style  type=\"text/css\" >\n",
       "    #T_2f14fdfa_9360_11ea_8185_b120fc921220row0_col0 {\n",
       "            background-color:  #b40426;\n",
       "            color:  #f1f1f1;\n",
       "        }    #T_2f14fdfa_9360_11ea_8185_b120fc921220row0_col1 {\n",
       "            background-color:  #799cf8;\n",
       "            color:  #000000;\n",
       "        }    #T_2f14fdfa_9360_11ea_8185_b120fc921220row0_col2 {\n",
       "            background-color:  #3c4ec2;\n",
       "            color:  #f1f1f1;\n",
       "        }    #T_2f14fdfa_9360_11ea_8185_b120fc921220row0_col3 {\n",
       "            background-color:  #4b64d5;\n",
       "            color:  #f1f1f1;\n",
       "        }    #T_2f14fdfa_9360_11ea_8185_b120fc921220row0_col4 {\n",
       "            background-color:  #d7dce3;\n",
       "            color:  #000000;\n",
       "        }    #T_2f14fdfa_9360_11ea_8185_b120fc921220row0_col5 {\n",
       "            background-color:  #cdd9ec;\n",
       "            color:  #000000;\n",
       "        }    #T_2f14fdfa_9360_11ea_8185_b120fc921220row0_col6 {\n",
       "            background-color:  #b9d0f9;\n",
       "            color:  #000000;\n",
       "        }    #T_2f14fdfa_9360_11ea_8185_b120fc921220row0_col7 {\n",
       "            background-color:  #3b4cc0;\n",
       "            color:  #f1f1f1;\n",
       "        }    #T_2f14fdfa_9360_11ea_8185_b120fc921220row0_col8 {\n",
       "            background-color:  #81a4fb;\n",
       "            color:  #000000;\n",
       "        }    #T_2f14fdfa_9360_11ea_8185_b120fc921220row0_col9 {\n",
       "            background-color:  #9dbdff;\n",
       "            color:  #000000;\n",
       "        }    #T_2f14fdfa_9360_11ea_8185_b120fc921220row0_col10 {\n",
       "            background-color:  #3f53c6;\n",
       "            color:  #f1f1f1;\n",
       "        }    #T_2f14fdfa_9360_11ea_8185_b120fc921220row0_col11 {\n",
       "            background-color:  #94b6ff;\n",
       "            color:  #000000;\n",
       "        }    #T_2f14fdfa_9360_11ea_8185_b120fc921220row0_col12 {\n",
       "            background-color:  #dbdcde;\n",
       "            color:  #000000;\n",
       "        }    #T_2f14fdfa_9360_11ea_8185_b120fc921220row0_col13 {\n",
       "            background-color:  #dcdddd;\n",
       "            color:  #000000;\n",
       "        }    #T_2f14fdfa_9360_11ea_8185_b120fc921220row0_col14 {\n",
       "            background-color:  #ec8165;\n",
       "            color:  #000000;\n",
       "        }    #T_2f14fdfa_9360_11ea_8185_b120fc921220row0_col15 {\n",
       "            background-color:  #3b4cc0;\n",
       "            color:  #f1f1f1;\n",
       "        }    #T_2f14fdfa_9360_11ea_8185_b120fc921220row0_col16 {\n",
       "            background-color:  #4257c9;\n",
       "            color:  #f1f1f1;\n",
       "        }    #T_2f14fdfa_9360_11ea_8185_b120fc921220row1_col0 {\n",
       "            background-color:  #d6dce4;\n",
       "            color:  #000000;\n",
       "        }    #T_2f14fdfa_9360_11ea_8185_b120fc921220row1_col1 {\n",
       "            background-color:  #b40426;\n",
       "            color:  #f1f1f1;\n",
       "        }    #T_2f14fdfa_9360_11ea_8185_b120fc921220row1_col2 {\n",
       "            background-color:  #9bbcff;\n",
       "            color:  #000000;\n",
       "        }    #T_2f14fdfa_9360_11ea_8185_b120fc921220row1_col3 {\n",
       "            background-color:  #bed2f6;\n",
       "            color:  #000000;\n",
       "        }    #T_2f14fdfa_9360_11ea_8185_b120fc921220row1_col4 {\n",
       "            background-color:  #c5d6f2;\n",
       "            color:  #000000;\n",
       "        }    #T_2f14fdfa_9360_11ea_8185_b120fc921220row1_col5 {\n",
       "            background-color:  #98b9ff;\n",
       "            color:  #000000;\n",
       "        }    #T_2f14fdfa_9360_11ea_8185_b120fc921220row1_col6 {\n",
       "            background-color:  #7b9ff9;\n",
       "            color:  #000000;\n",
       "        }    #T_2f14fdfa_9360_11ea_8185_b120fc921220row1_col7 {\n",
       "            background-color:  #a7c5fe;\n",
       "            color:  #000000;\n",
       "        }    #T_2f14fdfa_9360_11ea_8185_b120fc921220row1_col8 {\n",
       "            background-color:  #82a6fb;\n",
       "            color:  #000000;\n",
       "        }    #T_2f14fdfa_9360_11ea_8185_b120fc921220row1_col9 {\n",
       "            background-color:  #bed2f6;\n",
       "            color:  #000000;\n",
       "        }    #T_2f14fdfa_9360_11ea_8185_b120fc921220row1_col10 {\n",
       "            background-color:  #5a78e4;\n",
       "            color:  #000000;\n",
       "        }    #T_2f14fdfa_9360_11ea_8185_b120fc921220row1_col11 {\n",
       "            background-color:  #94b6ff;\n",
       "            color:  #000000;\n",
       "        }    #T_2f14fdfa_9360_11ea_8185_b120fc921220row1_col12 {\n",
       "            background-color:  #98b9ff;\n",
       "            color:  #000000;\n",
       "        }    #T_2f14fdfa_9360_11ea_8185_b120fc921220row1_col13 {\n",
       "            background-color:  #bed2f6;\n",
       "            color:  #000000;\n",
       "        }    #T_2f14fdfa_9360_11ea_8185_b120fc921220row1_col14 {\n",
       "            background-color:  #e0dbd8;\n",
       "            color:  #000000;\n",
       "        }    #T_2f14fdfa_9360_11ea_8185_b120fc921220row1_col15 {\n",
       "            background-color:  #b1cbfc;\n",
       "            color:  #000000;\n",
       "        }    #T_2f14fdfa_9360_11ea_8185_b120fc921220row1_col16 {\n",
       "            background-color:  #8badfd;\n",
       "            color:  #000000;\n",
       "        }    #T_2f14fdfa_9360_11ea_8185_b120fc921220row2_col0 {\n",
       "            background-color:  #5673e0;\n",
       "            color:  #000000;\n",
       "        }    #T_2f14fdfa_9360_11ea_8185_b120fc921220row2_col1 {\n",
       "            background-color:  #3b4cc0;\n",
       "            color:  #f1f1f1;\n",
       "        }    #T_2f14fdfa_9360_11ea_8185_b120fc921220row2_col2 {\n",
       "            background-color:  #b40426;\n",
       "            color:  #f1f1f1;\n",
       "        }    #T_2f14fdfa_9360_11ea_8185_b120fc921220row2_col3 {\n",
       "            background-color:  #e8765c;\n",
       "            color:  #000000;\n",
       "        }    #T_2f14fdfa_9360_11ea_8185_b120fc921220row2_col4 {\n",
       "            background-color:  #3b4cc0;\n",
       "            color:  #f1f1f1;\n",
       "        }    #T_2f14fdfa_9360_11ea_8185_b120fc921220row2_col5 {\n",
       "            background-color:  #84a7fc;\n",
       "            color:  #000000;\n",
       "        }    #T_2f14fdfa_9360_11ea_8185_b120fc921220row2_col6 {\n",
       "            background-color:  #4e68d8;\n",
       "            color:  #000000;\n",
       "        }    #T_2f14fdfa_9360_11ea_8185_b120fc921220row2_col7 {\n",
       "            background-color:  #ea7b60;\n",
       "            color:  #000000;\n",
       "        }    #T_2f14fdfa_9360_11ea_8185_b120fc921220row2_col8 {\n",
       "            background-color:  #81a4fb;\n",
       "            color:  #000000;\n",
       "        }    #T_2f14fdfa_9360_11ea_8185_b120fc921220row2_col9 {\n",
       "            background-color:  #bbd1f8;\n",
       "            color:  #000000;\n",
       "        }    #T_2f14fdfa_9360_11ea_8185_b120fc921220row2_col10 {\n",
       "            background-color:  #5673e0;\n",
       "            color:  #000000;\n",
       "        }    #T_2f14fdfa_9360_11ea_8185_b120fc921220row2_col11 {\n",
       "            background-color:  #94b6ff;\n",
       "            color:  #000000;\n",
       "        }    #T_2f14fdfa_9360_11ea_8185_b120fc921220row2_col12 {\n",
       "            background-color:  #6c8ff1;\n",
       "            color:  #000000;\n",
       "        }    #T_2f14fdfa_9360_11ea_8185_b120fc921220row2_col13 {\n",
       "            background-color:  #3b4cc0;\n",
       "            color:  #f1f1f1;\n",
       "        }    #T_2f14fdfa_9360_11ea_8185_b120fc921220row2_col14 {\n",
       "            background-color:  #6687ed;\n",
       "            color:  #000000;\n",
       "        }    #T_2f14fdfa_9360_11ea_8185_b120fc921220row2_col15 {\n",
       "            background-color:  #dcdddd;\n",
       "            color:  #000000;\n",
       "        }    #T_2f14fdfa_9360_11ea_8185_b120fc921220row2_col16 {\n",
       "            background-color:  #cb3e38;\n",
       "            color:  #f1f1f1;\n",
       "        }    #T_2f14fdfa_9360_11ea_8185_b120fc921220row3_col0 {\n",
       "            background-color:  #3b4cc0;\n",
       "            color:  #f1f1f1;\n",
       "        }    #T_2f14fdfa_9360_11ea_8185_b120fc921220row3_col1 {\n",
       "            background-color:  #3d50c3;\n",
       "            color:  #f1f1f1;\n",
       "        }    #T_2f14fdfa_9360_11ea_8185_b120fc921220row3_col2 {\n",
       "            background-color:  #ed8366;\n",
       "            color:  #000000;\n",
       "        }    #T_2f14fdfa_9360_11ea_8185_b120fc921220row3_col3 {\n",
       "            background-color:  #b40426;\n",
       "            color:  #f1f1f1;\n",
       "        }    #T_2f14fdfa_9360_11ea_8185_b120fc921220row3_col4 {\n",
       "            background-color:  #6282ea;\n",
       "            color:  #000000;\n",
       "        }    #T_2f14fdfa_9360_11ea_8185_b120fc921220row3_col5 {\n",
       "            background-color:  #6c8ff1;\n",
       "            color:  #000000;\n",
       "        }    #T_2f14fdfa_9360_11ea_8185_b120fc921220row3_col6 {\n",
       "            background-color:  #4b64d5;\n",
       "            color:  #f1f1f1;\n",
       "        }    #T_2f14fdfa_9360_11ea_8185_b120fc921220row3_col7 {\n",
       "            background-color:  #f7aa8c;\n",
       "            color:  #000000;\n",
       "        }    #T_2f14fdfa_9360_11ea_8185_b120fc921220row3_col8 {\n",
       "            background-color:  #81a4fb;\n",
       "            color:  #000000;\n",
       "        }    #T_2f14fdfa_9360_11ea_8185_b120fc921220row3_col9 {\n",
       "            background-color:  #cfdaea;\n",
       "            color:  #000000;\n",
       "        }    #T_2f14fdfa_9360_11ea_8185_b120fc921220row3_col10 {\n",
       "            background-color:  #6f92f3;\n",
       "            color:  #000000;\n",
       "        }    #T_2f14fdfa_9360_11ea_8185_b120fc921220row3_col11 {\n",
       "            background-color:  #93b5fe;\n",
       "            color:  #000000;\n",
       "        }    #T_2f14fdfa_9360_11ea_8185_b120fc921220row3_col12 {\n",
       "            background-color:  #6384eb;\n",
       "            color:  #000000;\n",
       "        }    #T_2f14fdfa_9360_11ea_8185_b120fc921220row3_col13 {\n",
       "            background-color:  #6384eb;\n",
       "            color:  #000000;\n",
       "        }    #T_2f14fdfa_9360_11ea_8185_b120fc921220row3_col14 {\n",
       "            background-color:  #3b4cc0;\n",
       "            color:  #f1f1f1;\n",
       "        }    #T_2f14fdfa_9360_11ea_8185_b120fc921220row3_col15 {\n",
       "            background-color:  #e4d9d2;\n",
       "            color:  #000000;\n",
       "        }    #T_2f14fdfa_9360_11ea_8185_b120fc921220row3_col16 {\n",
       "            background-color:  #f7a98b;\n",
       "            color:  #000000;\n",
       "        }    #T_2f14fdfa_9360_11ea_8185_b120fc921220row4_col0 {\n",
       "            background-color:  #ead5c9;\n",
       "            color:  #000000;\n",
       "        }    #T_2f14fdfa_9360_11ea_8185_b120fc921220row4_col1 {\n",
       "            background-color:  #85a8fc;\n",
       "            color:  #000000;\n",
       "        }    #T_2f14fdfa_9360_11ea_8185_b120fc921220row4_col2 {\n",
       "            background-color:  #4c66d6;\n",
       "            color:  #000000;\n",
       "        }    #T_2f14fdfa_9360_11ea_8185_b120fc921220row4_col3 {\n",
       "            background-color:  #9dbdff;\n",
       "            color:  #000000;\n",
       "        }    #T_2f14fdfa_9360_11ea_8185_b120fc921220row4_col4 {\n",
       "            background-color:  #b40426;\n",
       "            color:  #f1f1f1;\n",
       "        }    #T_2f14fdfa_9360_11ea_8185_b120fc921220row4_col5 {\n",
       "            background-color:  #9ebeff;\n",
       "            color:  #000000;\n",
       "        }    #T_2f14fdfa_9360_11ea_8185_b120fc921220row4_col6 {\n",
       "            background-color:  #7396f5;\n",
       "            color:  #000000;\n",
       "        }    #T_2f14fdfa_9360_11ea_8185_b120fc921220row4_col7 {\n",
       "            background-color:  #6c8ff1;\n",
       "            color:  #000000;\n",
       "        }    #T_2f14fdfa_9360_11ea_8185_b120fc921220row4_col8 {\n",
       "            background-color:  #81a4fb;\n",
       "            color:  #000000;\n",
       "        }    #T_2f14fdfa_9360_11ea_8185_b120fc921220row4_col9 {\n",
       "            background-color:  #a6c4fe;\n",
       "            color:  #000000;\n",
       "        }    #T_2f14fdfa_9360_11ea_8185_b120fc921220row4_col10 {\n",
       "            background-color:  #6687ed;\n",
       "            color:  #000000;\n",
       "        }    #T_2f14fdfa_9360_11ea_8185_b120fc921220row4_col11 {\n",
       "            background-color:  #94b6ff;\n",
       "            color:  #000000;\n",
       "        }    #T_2f14fdfa_9360_11ea_8185_b120fc921220row4_col12 {\n",
       "            background-color:  #a3c2fe;\n",
       "            color:  #000000;\n",
       "        }    #T_2f14fdfa_9360_11ea_8185_b120fc921220row4_col13 {\n",
       "            background-color:  #e2dad5;\n",
       "            color:  #000000;\n",
       "        }    #T_2f14fdfa_9360_11ea_8185_b120fc921220row4_col14 {\n",
       "            background-color:  #f0cdbb;\n",
       "            color:  #000000;\n",
       "        }    #T_2f14fdfa_9360_11ea_8185_b120fc921220row4_col15 {\n",
       "            background-color:  #88abfd;\n",
       "            color:  #000000;\n",
       "        }    #T_2f14fdfa_9360_11ea_8185_b120fc921220row4_col16 {\n",
       "            background-color:  #3b4cc0;\n",
       "            color:  #f1f1f1;\n",
       "        }    #T_2f14fdfa_9360_11ea_8185_b120fc921220row5_col0 {\n",
       "            background-color:  #e6d7cf;\n",
       "            color:  #000000;\n",
       "        }    #T_2f14fdfa_9360_11ea_8185_b120fc921220row5_col1 {\n",
       "            background-color:  #5572df;\n",
       "            color:  #000000;\n",
       "        }    #T_2f14fdfa_9360_11ea_8185_b120fc921220row5_col2 {\n",
       "            background-color:  #9dbdff;\n",
       "            color:  #000000;\n",
       "        }    #T_2f14fdfa_9360_11ea_8185_b120fc921220row5_col3 {\n",
       "            background-color:  #adc9fd;\n",
       "            color:  #000000;\n",
       "        }    #T_2f14fdfa_9360_11ea_8185_b120fc921220row5_col4 {\n",
       "            background-color:  #a7c5fe;\n",
       "            color:  #000000;\n",
       "        }    #T_2f14fdfa_9360_11ea_8185_b120fc921220row5_col5 {\n",
       "            background-color:  #b40426;\n",
       "            color:  #f1f1f1;\n",
       "        }    #T_2f14fdfa_9360_11ea_8185_b120fc921220row5_col6 {\n",
       "            background-color:  #9dbdff;\n",
       "            color:  #000000;\n",
       "        }    #T_2f14fdfa_9360_11ea_8185_b120fc921220row5_col7 {\n",
       "            background-color:  #6180e9;\n",
       "            color:  #000000;\n",
       "        }    #T_2f14fdfa_9360_11ea_8185_b120fc921220row5_col8 {\n",
       "            background-color:  #3b4cc0;\n",
       "            color:  #f1f1f1;\n",
       "        }    #T_2f14fdfa_9360_11ea_8185_b120fc921220row5_col9 {\n",
       "            background-color:  #3b4cc0;\n",
       "            color:  #f1f1f1;\n",
       "        }    #T_2f14fdfa_9360_11ea_8185_b120fc921220row5_col10 {\n",
       "            background-color:  #5977e3;\n",
       "            color:  #000000;\n",
       "        }    #T_2f14fdfa_9360_11ea_8185_b120fc921220row5_col11 {\n",
       "            background-color:  #506bda;\n",
       "            color:  #000000;\n",
       "        }    #T_2f14fdfa_9360_11ea_8185_b120fc921220row5_col12 {\n",
       "            background-color:  #96b7ff;\n",
       "            color:  #000000;\n",
       "        }    #T_2f14fdfa_9360_11ea_8185_b120fc921220row5_col13 {\n",
       "            background-color:  #89acfd;\n",
       "            color:  #000000;\n",
       "        }    #T_2f14fdfa_9360_11ea_8185_b120fc921220row5_col14 {\n",
       "            background-color:  #ecd3c5;\n",
       "            color:  #000000;\n",
       "        }    #T_2f14fdfa_9360_11ea_8185_b120fc921220row5_col15 {\n",
       "            background-color:  #5673e0;\n",
       "            color:  #000000;\n",
       "        }    #T_2f14fdfa_9360_11ea_8185_b120fc921220row5_col16 {\n",
       "            background-color:  #9ebeff;\n",
       "            color:  #000000;\n",
       "        }    #T_2f14fdfa_9360_11ea_8185_b120fc921220row6_col0 {\n",
       "            background-color:  #edd1c2;\n",
       "            color:  #000000;\n",
       "        }    #T_2f14fdfa_9360_11ea_8185_b120fc921220row6_col1 {\n",
       "            background-color:  #6b8df0;\n",
       "            color:  #000000;\n",
       "        }    #T_2f14fdfa_9360_11ea_8185_b120fc921220row6_col2 {\n",
       "            background-color:  #9dbdff;\n",
       "            color:  #000000;\n",
       "        }    #T_2f14fdfa_9360_11ea_8185_b120fc921220row6_col3 {\n",
       "            background-color:  #bcd2f7;\n",
       "            color:  #000000;\n",
       "        }    #T_2f14fdfa_9360_11ea_8185_b120fc921220row6_col4 {\n",
       "            background-color:  #adc9fd;\n",
       "            color:  #000000;\n",
       "        }    #T_2f14fdfa_9360_11ea_8185_b120fc921220row6_col5 {\n",
       "            background-color:  #c5d6f2;\n",
       "            color:  #000000;\n",
       "        }    #T_2f14fdfa_9360_11ea_8185_b120fc921220row6_col6 {\n",
       "            background-color:  #b40426;\n",
       "            color:  #f1f1f1;\n",
       "        }    #T_2f14fdfa_9360_11ea_8185_b120fc921220row6_col7 {\n",
       "            background-color:  #85a8fc;\n",
       "            color:  #000000;\n",
       "        }    #T_2f14fdfa_9360_11ea_8185_b120fc921220row6_col8 {\n",
       "            background-color:  #97b8ff;\n",
       "            color:  #000000;\n",
       "        }    #T_2f14fdfa_9360_11ea_8185_b120fc921220row6_col9 {\n",
       "            background-color:  #9abbff;\n",
       "            color:  #000000;\n",
       "        }    #T_2f14fdfa_9360_11ea_8185_b120fc921220row6_col10 {\n",
       "            background-color:  #3b4cc0;\n",
       "            color:  #f1f1f1;\n",
       "        }    #T_2f14fdfa_9360_11ea_8185_b120fc921220row6_col11 {\n",
       "            background-color:  #c1d4f4;\n",
       "            color:  #000000;\n",
       "        }    #T_2f14fdfa_9360_11ea_8185_b120fc921220row6_col12 {\n",
       "            background-color:  #94b6ff;\n",
       "            color:  #000000;\n",
       "        }    #T_2f14fdfa_9360_11ea_8185_b120fc921220row6_col13 {\n",
       "            background-color:  #ccd9ed;\n",
       "            color:  #000000;\n",
       "        }    #T_2f14fdfa_9360_11ea_8185_b120fc921220row6_col14 {\n",
       "            background-color:  #e4d9d2;\n",
       "            color:  #000000;\n",
       "        }    #T_2f14fdfa_9360_11ea_8185_b120fc921220row6_col15 {\n",
       "            background-color:  #7396f5;\n",
       "            color:  #000000;\n",
       "        }    #T_2f14fdfa_9360_11ea_8185_b120fc921220row6_col16 {\n",
       "            background-color:  #96b7ff;\n",
       "            color:  #000000;\n",
       "        }    #T_2f14fdfa_9360_11ea_8185_b120fc921220row7_col0 {\n",
       "            background-color:  #5d7ce6;\n",
       "            color:  #000000;\n",
       "        }    #T_2f14fdfa_9360_11ea_8185_b120fc921220row7_col1 {\n",
       "            background-color:  #516ddb;\n",
       "            color:  #000000;\n",
       "        }    #T_2f14fdfa_9360_11ea_8185_b120fc921220row7_col2 {\n",
       "            background-color:  #e97a5f;\n",
       "            color:  #000000;\n",
       "        }    #T_2f14fdfa_9360_11ea_8185_b120fc921220row7_col3 {\n",
       "            background-color:  #f4987a;\n",
       "            color:  #000000;\n",
       "        }    #T_2f14fdfa_9360_11ea_8185_b120fc921220row7_col4 {\n",
       "            background-color:  #6282ea;\n",
       "            color:  #000000;\n",
       "        }    #T_2f14fdfa_9360_11ea_8185_b120fc921220row7_col5 {\n",
       "            background-color:  #4c66d6;\n",
       "            color:  #000000;\n",
       "        }    #T_2f14fdfa_9360_11ea_8185_b120fc921220row7_col6 {\n",
       "            background-color:  #3b4cc0;\n",
       "            color:  #f1f1f1;\n",
       "        }    #T_2f14fdfa_9360_11ea_8185_b120fc921220row7_col7 {\n",
       "            background-color:  #b40426;\n",
       "            color:  #f1f1f1;\n",
       "        }    #T_2f14fdfa_9360_11ea_8185_b120fc921220row7_col8 {\n",
       "            background-color:  #82a6fb;\n",
       "            color:  #000000;\n",
       "        }    #T_2f14fdfa_9360_11ea_8185_b120fc921220row7_col9 {\n",
       "            background-color:  #e0dbd8;\n",
       "            color:  #000000;\n",
       "        }    #T_2f14fdfa_9360_11ea_8185_b120fc921220row7_col10 {\n",
       "            background-color:  #688aef;\n",
       "            color:  #000000;\n",
       "        }    #T_2f14fdfa_9360_11ea_8185_b120fc921220row7_col11 {\n",
       "            background-color:  #96b7ff;\n",
       "            color:  #000000;\n",
       "        }    #T_2f14fdfa_9360_11ea_8185_b120fc921220row7_col12 {\n",
       "            background-color:  #6f92f3;\n",
       "            color:  #000000;\n",
       "        }    #T_2f14fdfa_9360_11ea_8185_b120fc921220row7_col13 {\n",
       "            background-color:  #6180e9;\n",
       "            color:  #000000;\n",
       "        }    #T_2f14fdfa_9360_11ea_8185_b120fc921220row7_col14 {\n",
       "            background-color:  #799cf8;\n",
       "            color:  #000000;\n",
       "        }    #T_2f14fdfa_9360_11ea_8185_b120fc921220row7_col15 {\n",
       "            background-color:  #eed0c0;\n",
       "            color:  #000000;\n",
       "        }    #T_2f14fdfa_9360_11ea_8185_b120fc921220row7_col16 {\n",
       "            background-color:  #f5c0a7;\n",
       "            color:  #000000;\n",
       "        }    #T_2f14fdfa_9360_11ea_8185_b120fc921220row8_col0 {\n",
       "            background-color:  #c6d6f1;\n",
       "            color:  #000000;\n",
       "        }    #T_2f14fdfa_9360_11ea_8185_b120fc921220row8_col1 {\n",
       "            background-color:  #5d7ce6;\n",
       "            color:  #000000;\n",
       "        }    #T_2f14fdfa_9360_11ea_8185_b120fc921220row8_col2 {\n",
       "            background-color:  #b6cefa;\n",
       "            color:  #000000;\n",
       "        }    #T_2f14fdfa_9360_11ea_8185_b120fc921220row8_col3 {\n",
       "            background-color:  #d1dae9;\n",
       "            color:  #000000;\n",
       "        }    #T_2f14fdfa_9360_11ea_8185_b120fc921220row8_col4 {\n",
       "            background-color:  #a7c5fe;\n",
       "            color:  #000000;\n",
       "        }    #T_2f14fdfa_9360_11ea_8185_b120fc921220row8_col5 {\n",
       "            background-color:  #5b7ae5;\n",
       "            color:  #000000;\n",
       "        }    #T_2f14fdfa_9360_11ea_8185_b120fc921220row8_col6 {\n",
       "            background-color:  #84a7fc;\n",
       "            color:  #000000;\n",
       "        }    #T_2f14fdfa_9360_11ea_8185_b120fc921220row8_col7 {\n",
       "            background-color:  #afcafc;\n",
       "            color:  #000000;\n",
       "        }    #T_2f14fdfa_9360_11ea_8185_b120fc921220row8_col8 {\n",
       "            background-color:  #b40426;\n",
       "            color:  #f1f1f1;\n",
       "        }    #T_2f14fdfa_9360_11ea_8185_b120fc921220row8_col9 {\n",
       "            background-color:  #9ebeff;\n",
       "            color:  #000000;\n",
       "        }    #T_2f14fdfa_9360_11ea_8185_b120fc921220row8_col10 {\n",
       "            background-color:  #6788ee;\n",
       "            color:  #000000;\n",
       "        }    #T_2f14fdfa_9360_11ea_8185_b120fc921220row8_col11 {\n",
       "            background-color:  #e6d7cf;\n",
       "            color:  #000000;\n",
       "        }    #T_2f14fdfa_9360_11ea_8185_b120fc921220row8_col12 {\n",
       "            background-color:  #a2c1ff;\n",
       "            color:  #000000;\n",
       "        }    #T_2f14fdfa_9360_11ea_8185_b120fc921220row8_col13 {\n",
       "            background-color:  #c5d6f2;\n",
       "            color:  #000000;\n",
       "        }    #T_2f14fdfa_9360_11ea_8185_b120fc921220row8_col14 {\n",
       "            background-color:  #d1dae9;\n",
       "            color:  #000000;\n",
       "        }    #T_2f14fdfa_9360_11ea_8185_b120fc921220row8_col15 {\n",
       "            background-color:  #96b7ff;\n",
       "            color:  #000000;\n",
       "        }    #T_2f14fdfa_9360_11ea_8185_b120fc921220row8_col16 {\n",
       "            background-color:  #a7c5fe;\n",
       "            color:  #000000;\n",
       "        }    #T_2f14fdfa_9360_11ea_8185_b120fc921220row9_col0 {\n",
       "            background-color:  #c5d6f2;\n",
       "            color:  #000000;\n",
       "        }    #T_2f14fdfa_9360_11ea_8185_b120fc921220row9_col1 {\n",
       "            background-color:  #84a7fc;\n",
       "            color:  #000000;\n",
       "        }    #T_2f14fdfa_9360_11ea_8185_b120fc921220row9_col2 {\n",
       "            background-color:  #cdd9ec;\n",
       "            color:  #000000;\n",
       "        }    #T_2f14fdfa_9360_11ea_8185_b120fc921220row9_col3 {\n",
       "            background-color:  #edd1c2;\n",
       "            color:  #000000;\n",
       "        }    #T_2f14fdfa_9360_11ea_8185_b120fc921220row9_col4 {\n",
       "            background-color:  #aec9fc;\n",
       "            color:  #000000;\n",
       "        }    #T_2f14fdfa_9360_11ea_8185_b120fc921220row9_col5 {\n",
       "            background-color:  #3b4cc0;\n",
       "            color:  #f1f1f1;\n",
       "        }    #T_2f14fdfa_9360_11ea_8185_b120fc921220row9_col6 {\n",
       "            background-color:  #6788ee;\n",
       "            color:  #000000;\n",
       "        }    #T_2f14fdfa_9360_11ea_8185_b120fc921220row9_col7 {\n",
       "            background-color:  #e9d5cb;\n",
       "            color:  #000000;\n",
       "        }    #T_2f14fdfa_9360_11ea_8185_b120fc921220row9_col8 {\n",
       "            background-color:  #80a3fa;\n",
       "            color:  #000000;\n",
       "        }    #T_2f14fdfa_9360_11ea_8185_b120fc921220row9_col9 {\n",
       "            background-color:  #b40426;\n",
       "            color:  #f1f1f1;\n",
       "        }    #T_2f14fdfa_9360_11ea_8185_b120fc921220row9_col10 {\n",
       "            background-color:  #4f69d9;\n",
       "            color:  #000000;\n",
       "        }    #T_2f14fdfa_9360_11ea_8185_b120fc921220row9_col11 {\n",
       "            background-color:  #93b5fe;\n",
       "            color:  #000000;\n",
       "        }    #T_2f14fdfa_9360_11ea_8185_b120fc921220row9_col12 {\n",
       "            background-color:  #98b9ff;\n",
       "            color:  #000000;\n",
       "        }    #T_2f14fdfa_9360_11ea_8185_b120fc921220row9_col13 {\n",
       "            background-color:  #a7c5fe;\n",
       "            color:  #000000;\n",
       "        }    #T_2f14fdfa_9360_11ea_8185_b120fc921220row9_col14 {\n",
       "            background-color:  #abc8fd;\n",
       "            color:  #000000;\n",
       "        }    #T_2f14fdfa_9360_11ea_8185_b120fc921220row9_col15 {\n",
       "            background-color:  #d9dce1;\n",
       "            color:  #000000;\n",
       "        }    #T_2f14fdfa_9360_11ea_8185_b120fc921220row9_col16 {\n",
       "            background-color:  #c0d4f5;\n",
       "            color:  #000000;\n",
       "        }    #T_2f14fdfa_9360_11ea_8185_b120fc921220row10_col0 {\n",
       "            background-color:  #afcafc;\n",
       "            color:  #000000;\n",
       "        }    #T_2f14fdfa_9360_11ea_8185_b120fc921220row10_col1 {\n",
       "            background-color:  #5673e0;\n",
       "            color:  #000000;\n",
       "        }    #T_2f14fdfa_9360_11ea_8185_b120fc921220row10_col2 {\n",
       "            background-color:  #aec9fc;\n",
       "            color:  #000000;\n",
       "        }    #T_2f14fdfa_9360_11ea_8185_b120fc921220row10_col3 {\n",
       "            background-color:  #d7dce3;\n",
       "            color:  #000000;\n",
       "        }    #T_2f14fdfa_9360_11ea_8185_b120fc921220row10_col4 {\n",
       "            background-color:  #abc8fd;\n",
       "            color:  #000000;\n",
       "        }    #T_2f14fdfa_9360_11ea_8185_b120fc921220row10_col5 {\n",
       "            background-color:  #98b9ff;\n",
       "            color:  #000000;\n",
       "        }    #T_2f14fdfa_9360_11ea_8185_b120fc921220row10_col6 {\n",
       "            background-color:  #465ecf;\n",
       "            color:  #f1f1f1;\n",
       "        }    #T_2f14fdfa_9360_11ea_8185_b120fc921220row10_col7 {\n",
       "            background-color:  #b5cdfa;\n",
       "            color:  #000000;\n",
       "        }    #T_2f14fdfa_9360_11ea_8185_b120fc921220row10_col8 {\n",
       "            background-color:  #88abfd;\n",
       "            color:  #000000;\n",
       "        }    #T_2f14fdfa_9360_11ea_8185_b120fc921220row10_col9 {\n",
       "            background-color:  #90b2fe;\n",
       "            color:  #000000;\n",
       "        }    #T_2f14fdfa_9360_11ea_8185_b120fc921220row10_col10 {\n",
       "            background-color:  #b40426;\n",
       "            color:  #f1f1f1;\n",
       "        }    #T_2f14fdfa_9360_11ea_8185_b120fc921220row10_col11 {\n",
       "            background-color:  #98b9ff;\n",
       "            color:  #000000;\n",
       "        }    #T_2f14fdfa_9360_11ea_8185_b120fc921220row10_col12 {\n",
       "            background-color:  #8db0fe;\n",
       "            color:  #000000;\n",
       "        }    #T_2f14fdfa_9360_11ea_8185_b120fc921220row10_col13 {\n",
       "            background-color:  #b6cefa;\n",
       "            color:  #000000;\n",
       "        }    #T_2f14fdfa_9360_11ea_8185_b120fc921220row10_col14 {\n",
       "            background-color:  #bbd1f8;\n",
       "            color:  #000000;\n",
       "        }    #T_2f14fdfa_9360_11ea_8185_b120fc921220row10_col15 {\n",
       "            background-color:  #9fbfff;\n",
       "            color:  #000000;\n",
       "        }    #T_2f14fdfa_9360_11ea_8185_b120fc921220row10_col16 {\n",
       "            background-color:  #9abbff;\n",
       "            color:  #000000;\n",
       "        }    #T_2f14fdfa_9360_11ea_8185_b120fc921220row11_col0 {\n",
       "            background-color:  #c7d7f0;\n",
       "            color:  #000000;\n",
       "        }    #T_2f14fdfa_9360_11ea_8185_b120fc921220row11_col1 {\n",
       "            background-color:  #5d7ce6;\n",
       "            color:  #000000;\n",
       "        }    #T_2f14fdfa_9360_11ea_8185_b120fc921220row11_col2 {\n",
       "            background-color:  #b6cefa;\n",
       "            color:  #000000;\n",
       "        }    #T_2f14fdfa_9360_11ea_8185_b120fc921220row11_col3 {\n",
       "            background-color:  #d1dae9;\n",
       "            color:  #000000;\n",
       "        }    #T_2f14fdfa_9360_11ea_8185_b120fc921220row11_col4 {\n",
       "            background-color:  #a7c5fe;\n",
       "            color:  #000000;\n",
       "        }    #T_2f14fdfa_9360_11ea_8185_b120fc921220row11_col5 {\n",
       "            background-color:  #5d7ce6;\n",
       "            color:  #000000;\n",
       "        }    #T_2f14fdfa_9360_11ea_8185_b120fc921220row11_col6 {\n",
       "            background-color:  #a3c2fe;\n",
       "            color:  #000000;\n",
       "        }    #T_2f14fdfa_9360_11ea_8185_b120fc921220row11_col7 {\n",
       "            background-color:  #b1cbfc;\n",
       "            color:  #000000;\n",
       "        }    #T_2f14fdfa_9360_11ea_8185_b120fc921220row11_col8 {\n",
       "            background-color:  #dedcdb;\n",
       "            color:  #000000;\n",
       "        }    #T_2f14fdfa_9360_11ea_8185_b120fc921220row11_col9 {\n",
       "            background-color:  #9ebeff;\n",
       "            color:  #000000;\n",
       "        }    #T_2f14fdfa_9360_11ea_8185_b120fc921220row11_col10 {\n",
       "            background-color:  #6687ed;\n",
       "            color:  #000000;\n",
       "        }    #T_2f14fdfa_9360_11ea_8185_b120fc921220row11_col11 {\n",
       "            background-color:  #b40426;\n",
       "            color:  #f1f1f1;\n",
       "        }    #T_2f14fdfa_9360_11ea_8185_b120fc921220row11_col12 {\n",
       "            background-color:  #3b4cc0;\n",
       "            color:  #f1f1f1;\n",
       "        }    #T_2f14fdfa_9360_11ea_8185_b120fc921220row11_col13 {\n",
       "            background-color:  #e16751;\n",
       "            color:  #000000;\n",
       "        }    #T_2f14fdfa_9360_11ea_8185_b120fc921220row11_col14 {\n",
       "            background-color:  #d1dae9;\n",
       "            color:  #000000;\n",
       "        }    #T_2f14fdfa_9360_11ea_8185_b120fc921220row11_col15 {\n",
       "            background-color:  #96b7ff;\n",
       "            color:  #000000;\n",
       "        }    #T_2f14fdfa_9360_11ea_8185_b120fc921220row11_col16 {\n",
       "            background-color:  #a7c5fe;\n",
       "            color:  #000000;\n",
       "        }    #T_2f14fdfa_9360_11ea_8185_b120fc921220row12_col0 {\n",
       "            background-color:  #f2cbb7;\n",
       "            color:  #000000;\n",
       "        }    #T_2f14fdfa_9360_11ea_8185_b120fc921220row12_col1 {\n",
       "            background-color:  #6180e9;\n",
       "            color:  #000000;\n",
       "        }    #T_2f14fdfa_9360_11ea_8185_b120fc921220row12_col2 {\n",
       "            background-color:  #94b6ff;\n",
       "            color:  #000000;\n",
       "        }    #T_2f14fdfa_9360_11ea_8185_b120fc921220row12_col3 {\n",
       "            background-color:  #afcafc;\n",
       "            color:  #000000;\n",
       "        }    #T_2f14fdfa_9360_11ea_8185_b120fc921220row12_col4 {\n",
       "            background-color:  #b6cefa;\n",
       "            color:  #000000;\n",
       "        }    #T_2f14fdfa_9360_11ea_8185_b120fc921220row12_col5 {\n",
       "            background-color:  #a1c0ff;\n",
       "            color:  #000000;\n",
       "        }    #T_2f14fdfa_9360_11ea_8185_b120fc921220row12_col6 {\n",
       "            background-color:  #6e90f2;\n",
       "            color:  #000000;\n",
       "        }    #T_2f14fdfa_9360_11ea_8185_b120fc921220row12_col7 {\n",
       "            background-color:  #8fb1fe;\n",
       "            color:  #000000;\n",
       "        }    #T_2f14fdfa_9360_11ea_8185_b120fc921220row12_col8 {\n",
       "            background-color:  #92b4fe;\n",
       "            color:  #000000;\n",
       "        }    #T_2f14fdfa_9360_11ea_8185_b120fc921220row12_col9 {\n",
       "            background-color:  #a3c2fe;\n",
       "            color:  #000000;\n",
       "        }    #T_2f14fdfa_9360_11ea_8185_b120fc921220row12_col10 {\n",
       "            background-color:  #5977e3;\n",
       "            color:  #000000;\n",
       "        }    #T_2f14fdfa_9360_11ea_8185_b120fc921220row12_col11 {\n",
       "            background-color:  #3b4cc0;\n",
       "            color:  #f1f1f1;\n",
       "        }    #T_2f14fdfa_9360_11ea_8185_b120fc921220row12_col12 {\n",
       "            background-color:  #b40426;\n",
       "            color:  #f1f1f1;\n",
       "        }    #T_2f14fdfa_9360_11ea_8185_b120fc921220row12_col13 {\n",
       "            background-color:  #6180e9;\n",
       "            color:  #000000;\n",
       "        }    #T_2f14fdfa_9360_11ea_8185_b120fc921220row12_col14 {\n",
       "            background-color:  #e8d6cc;\n",
       "            color:  #000000;\n",
       "        }    #T_2f14fdfa_9360_11ea_8185_b120fc921220row12_col15 {\n",
       "            background-color:  #7a9df8;\n",
       "            color:  #000000;\n",
       "        }    #T_2f14fdfa_9360_11ea_8185_b120fc921220row12_col16 {\n",
       "            background-color:  #8badfd;\n",
       "            color:  #000000;\n",
       "        }    #T_2f14fdfa_9360_11ea_8185_b120fc921220row13_col0 {\n",
       "            background-color:  #ecd3c5;\n",
       "            color:  #000000;\n",
       "        }    #T_2f14fdfa_9360_11ea_8185_b120fc921220row13_col1 {\n",
       "            background-color:  #7699f6;\n",
       "            color:  #000000;\n",
       "        }    #T_2f14fdfa_9360_11ea_8185_b120fc921220row13_col2 {\n",
       "            background-color:  #485fd1;\n",
       "            color:  #f1f1f1;\n",
       "        }    #T_2f14fdfa_9360_11ea_8185_b120fc921220row13_col3 {\n",
       "            background-color:  #98b9ff;\n",
       "            color:  #000000;\n",
       "        }    #T_2f14fdfa_9360_11ea_8185_b120fc921220row13_col4 {\n",
       "            background-color:  #e0dbd8;\n",
       "            color:  #000000;\n",
       "        }    #T_2f14fdfa_9360_11ea_8185_b120fc921220row13_col5 {\n",
       "            background-color:  #7b9ff9;\n",
       "            color:  #000000;\n",
       "        }    #T_2f14fdfa_9360_11ea_8185_b120fc921220row13_col6 {\n",
       "            background-color:  #9bbcff;\n",
       "            color:  #000000;\n",
       "        }    #T_2f14fdfa_9360_11ea_8185_b120fc921220row13_col7 {\n",
       "            background-color:  #6687ed;\n",
       "            color:  #000000;\n",
       "        }    #T_2f14fdfa_9360_11ea_8185_b120fc921220row13_col8 {\n",
       "            background-color:  #a2c1ff;\n",
       "            color:  #000000;\n",
       "        }    #T_2f14fdfa_9360_11ea_8185_b120fc921220row13_col9 {\n",
       "            background-color:  #9abbff;\n",
       "            color:  #000000;\n",
       "        }    #T_2f14fdfa_9360_11ea_8185_b120fc921220row13_col10 {\n",
       "            background-color:  #6e90f2;\n",
       "            color:  #000000;\n",
       "        }    #T_2f14fdfa_9360_11ea_8185_b120fc921220row13_col11 {\n",
       "            background-color:  #e46e56;\n",
       "            color:  #000000;\n",
       "        }    #T_2f14fdfa_9360_11ea_8185_b120fc921220row13_col12 {\n",
       "            background-color:  #445acc;\n",
       "            color:  #f1f1f1;\n",
       "        }    #T_2f14fdfa_9360_11ea_8185_b120fc921220row13_col13 {\n",
       "            background-color:  #b40426;\n",
       "            color:  #f1f1f1;\n",
       "        }    #T_2f14fdfa_9360_11ea_8185_b120fc921220row13_col14 {\n",
       "            background-color:  #f1ccb8;\n",
       "            color:  #000000;\n",
       "        }    #T_2f14fdfa_9360_11ea_8185_b120fc921220row13_col15 {\n",
       "            background-color:  #85a8fc;\n",
       "            color:  #000000;\n",
       "        }    #T_2f14fdfa_9360_11ea_8185_b120fc921220row13_col16 {\n",
       "            background-color:  #3b4cc0;\n",
       "            color:  #f1f1f1;\n",
       "        }    #T_2f14fdfa_9360_11ea_8185_b120fc921220row14_col0 {\n",
       "            background-color:  #ee8669;\n",
       "            color:  #000000;\n",
       "        }    #T_2f14fdfa_9360_11ea_8185_b120fc921220row14_col1 {\n",
       "            background-color:  #7da0f9;\n",
       "            color:  #000000;\n",
       "        }    #T_2f14fdfa_9360_11ea_8185_b120fc921220row14_col2 {\n",
       "            background-color:  #3b4cc0;\n",
       "            color:  #f1f1f1;\n",
       "        }    #T_2f14fdfa_9360_11ea_8185_b120fc921220row14_col3 {\n",
       "            background-color:  #3b4cc0;\n",
       "            color:  #f1f1f1;\n",
       "        }    #T_2f14fdfa_9360_11ea_8185_b120fc921220row14_col4 {\n",
       "            background-color:  #dadce0;\n",
       "            color:  #000000;\n",
       "        }    #T_2f14fdfa_9360_11ea_8185_b120fc921220row14_col5 {\n",
       "            background-color:  #ccd9ed;\n",
       "            color:  #000000;\n",
       "        }    #T_2f14fdfa_9360_11ea_8185_b120fc921220row14_col6 {\n",
       "            background-color:  #94b6ff;\n",
       "            color:  #000000;\n",
       "        }    #T_2f14fdfa_9360_11ea_8185_b120fc921220row14_col7 {\n",
       "            background-color:  #455cce;\n",
       "            color:  #f1f1f1;\n",
       "        }    #T_2f14fdfa_9360_11ea_8185_b120fc921220row14_col8 {\n",
       "            background-color:  #81a4fb;\n",
       "            color:  #000000;\n",
       "        }    #T_2f14fdfa_9360_11ea_8185_b120fc921220row14_col9 {\n",
       "            background-color:  #6b8df0;\n",
       "            color:  #000000;\n",
       "        }    #T_2f14fdfa_9360_11ea_8185_b120fc921220row14_col10 {\n",
       "            background-color:  #3d50c3;\n",
       "            color:  #f1f1f1;\n",
       "        }    #T_2f14fdfa_9360_11ea_8185_b120fc921220row14_col11 {\n",
       "            background-color:  #94b6ff;\n",
       "            color:  #000000;\n",
       "        }    #T_2f14fdfa_9360_11ea_8185_b120fc921220row14_col12 {\n",
       "            background-color:  #bed2f6;\n",
       "            color:  #000000;\n",
       "        }    #T_2f14fdfa_9360_11ea_8185_b120fc921220row14_col13 {\n",
       "            background-color:  #dfdbd9;\n",
       "            color:  #000000;\n",
       "        }    #T_2f14fdfa_9360_11ea_8185_b120fc921220row14_col14 {\n",
       "            background-color:  #b40426;\n",
       "            color:  #f1f1f1;\n",
       "        }    #T_2f14fdfa_9360_11ea_8185_b120fc921220row14_col15 {\n",
       "            background-color:  #4b64d5;\n",
       "            color:  #f1f1f1;\n",
       "        }    #T_2f14fdfa_9360_11ea_8185_b120fc921220row14_col16 {\n",
       "            background-color:  #3b4cc0;\n",
       "            color:  #f1f1f1;\n",
       "        }    #T_2f14fdfa_9360_11ea_8185_b120fc921220row15_col0 {\n",
       "            background-color:  #7b9ff9;\n",
       "            color:  #000000;\n",
       "        }    #T_2f14fdfa_9360_11ea_8185_b120fc921220row15_col1 {\n",
       "            background-color:  #7da0f9;\n",
       "            color:  #000000;\n",
       "        }    #T_2f14fdfa_9360_11ea_8185_b120fc921220row15_col2 {\n",
       "            background-color:  #ebd3c6;\n",
       "            color:  #000000;\n",
       "        }    #T_2f14fdfa_9360_11ea_8185_b120fc921220row15_col3 {\n",
       "            background-color:  #f6bea4;\n",
       "            color:  #000000;\n",
       "        }    #T_2f14fdfa_9360_11ea_8185_b120fc921220row15_col4 {\n",
       "            background-color:  #9abbff;\n",
       "            color:  #000000;\n",
       "        }    #T_2f14fdfa_9360_11ea_8185_b120fc921220row15_col5 {\n",
       "            background-color:  #6282ea;\n",
       "            color:  #000000;\n",
       "        }    #T_2f14fdfa_9360_11ea_8185_b120fc921220row15_col6 {\n",
       "            background-color:  #485fd1;\n",
       "            color:  #f1f1f1;\n",
       "        }    #T_2f14fdfa_9360_11ea_8185_b120fc921220row15_col7 {\n",
       "            background-color:  #f4c5ad;\n",
       "            color:  #000000;\n",
       "        }    #T_2f14fdfa_9360_11ea_8185_b120fc921220row15_col8 {\n",
       "            background-color:  #81a4fb;\n",
       "            color:  #000000;\n",
       "        }    #T_2f14fdfa_9360_11ea_8185_b120fc921220row15_col9 {\n",
       "            background-color:  #dedcdb;\n",
       "            color:  #000000;\n",
       "        }    #T_2f14fdfa_9360_11ea_8185_b120fc921220row15_col10 {\n",
       "            background-color:  #6b8df0;\n",
       "            color:  #000000;\n",
       "        }    #T_2f14fdfa_9360_11ea_8185_b120fc921220row15_col11 {\n",
       "            background-color:  #94b6ff;\n",
       "            color:  #000000;\n",
       "        }    #T_2f14fdfa_9360_11ea_8185_b120fc921220row15_col12 {\n",
       "            background-color:  #779af7;\n",
       "            color:  #000000;\n",
       "        }    #T_2f14fdfa_9360_11ea_8185_b120fc921220row15_col13 {\n",
       "            background-color:  #9dbdff;\n",
       "            color:  #000000;\n",
       "        }    #T_2f14fdfa_9360_11ea_8185_b120fc921220row15_col14 {\n",
       "            background-color:  #9bbcff;\n",
       "            color:  #000000;\n",
       "        }    #T_2f14fdfa_9360_11ea_8185_b120fc921220row15_col15 {\n",
       "            background-color:  #b40426;\n",
       "            color:  #f1f1f1;\n",
       "        }    #T_2f14fdfa_9360_11ea_8185_b120fc921220row15_col16 {\n",
       "            background-color:  #d6dce4;\n",
       "            color:  #000000;\n",
       "        }    #T_2f14fdfa_9360_11ea_8185_b120fc921220row16_col0 {\n",
       "            background-color:  #6e90f2;\n",
       "            color:  #000000;\n",
       "        }    #T_2f14fdfa_9360_11ea_8185_b120fc921220row16_col1 {\n",
       "            background-color:  #3b4cc0;\n",
       "            color:  #f1f1f1;\n",
       "        }    #T_2f14fdfa_9360_11ea_8185_b120fc921220row16_col2 {\n",
       "            background-color:  #ca3b37;\n",
       "            color:  #f1f1f1;\n",
       "        }    #T_2f14fdfa_9360_11ea_8185_b120fc921220row16_col3 {\n",
       "            background-color:  #f39475;\n",
       "            color:  #000000;\n",
       "        }    #T_2f14fdfa_9360_11ea_8185_b120fc921220row16_col4 {\n",
       "            background-color:  #3b4cc0;\n",
       "            color:  #f1f1f1;\n",
       "        }    #T_2f14fdfa_9360_11ea_8185_b120fc921220row16_col5 {\n",
       "            background-color:  #96b7ff;\n",
       "            color:  #000000;\n",
       "        }    #T_2f14fdfa_9360_11ea_8185_b120fc921220row16_col6 {\n",
       "            background-color:  #5977e3;\n",
       "            color:  #000000;\n",
       "        }    #T_2f14fdfa_9360_11ea_8185_b120fc921220row16_col7 {\n",
       "            background-color:  #f6bda2;\n",
       "            color:  #000000;\n",
       "        }    #T_2f14fdfa_9360_11ea_8185_b120fc921220row16_col8 {\n",
       "            background-color:  #81a4fb;\n",
       "            color:  #000000;\n",
       "        }    #T_2f14fdfa_9360_11ea_8185_b120fc921220row16_col9 {\n",
       "            background-color:  #bad0f8;\n",
       "            color:  #000000;\n",
       "        }    #T_2f14fdfa_9360_11ea_8185_b120fc921220row16_col10 {\n",
       "            background-color:  #506bda;\n",
       "            color:  #000000;\n",
       "        }    #T_2f14fdfa_9360_11ea_8185_b120fc921220row16_col11 {\n",
       "            background-color:  #94b6ff;\n",
       "            color:  #000000;\n",
       "        }    #T_2f14fdfa_9360_11ea_8185_b120fc921220row16_col12 {\n",
       "            background-color:  #7597f6;\n",
       "            color:  #000000;\n",
       "        }    #T_2f14fdfa_9360_11ea_8185_b120fc921220row16_col13 {\n",
       "            background-color:  #3f53c6;\n",
       "            color:  #f1f1f1;\n",
       "        }    #T_2f14fdfa_9360_11ea_8185_b120fc921220row16_col14 {\n",
       "            background-color:  #799cf8;\n",
       "            color:  #000000;\n",
       "        }    #T_2f14fdfa_9360_11ea_8185_b120fc921220row16_col15 {\n",
       "            background-color:  #cbd8ee;\n",
       "            color:  #000000;\n",
       "        }    #T_2f14fdfa_9360_11ea_8185_b120fc921220row16_col16 {\n",
       "            background-color:  #b40426;\n",
       "            color:  #f1f1f1;\n",
       "        }</style><table id=\"T_2f14fdfa_9360_11ea_8185_b120fc921220\" ><thead>    <tr>        <th class=\"blank level0\" ></th>        <th class=\"col_heading level0 col0\" >Force [kN]</th>        <th class=\"col_heading level0 col1\" >A_ges_vibr</th>        <th class=\"col_heading level0 col2\" >A_ACTpos [mm]</th>        <th class=\"col_heading level0 col3\" >DB_ACTpos [mm]</th>        <th class=\"col_heading level0 col4\" >INDA_ACTpos [deg]</th>        <th class=\"col_heading level0 col5\" >A_ACT_Force [kN]</th>        <th class=\"col_heading level0 col6\" >DB_ACT_Force [kN]</th>        <th class=\"col_heading level0 col7\" >R_ACTspd [mm/min]</th>        <th class=\"col_heading level0 col8\" >SBA_NomPos [mm] [mm]</th>        <th class=\"col_heading level0 col9\" >A_ACTspd [mm/min]</th>        <th class=\"col_heading level0 col10\" >DB_ACTspd [mm/min]</th>        <th class=\"col_heading level0 col11\" >Feedback SBA [%]</th>        <th class=\"col_heading level0 col12\" >Frc_Volt</th>        <th class=\"col_heading level0 col13\" >Speed Vn_1 [rpm]</th>        <th class=\"col_heading level0 col14\" >IP_ActPos [mm]</th>        <th class=\"col_heading level0 col15\" >TMP_Ind_F [°C]</th>        <th class=\"col_heading level0 col16\" >c02w</th>    </tr></thead><tbody>\n",
       "                <tr>\n",
       "                        <th id=\"T_2f14fdfa_9360_11ea_8185_b120fc921220level0_row0\" class=\"row_heading level0 row0\" >Force [kN]</th>\n",
       "                        <td id=\"T_2f14fdfa_9360_11ea_8185_b120fc921220row0_col0\" class=\"data row0 col0\" >1</td>\n",
       "                        <td id=\"T_2f14fdfa_9360_11ea_8185_b120fc921220row0_col1\" class=\"data row0 col1\" >0.093</td>\n",
       "                        <td id=\"T_2f14fdfa_9360_11ea_8185_b120fc921220row0_col2\" class=\"data row0 col2\" >-0.57</td>\n",
       "                        <td id=\"T_2f14fdfa_9360_11ea_8185_b120fc921220row0_col3\" class=\"data row0 col3\" >-0.73</td>\n",
       "                        <td id=\"T_2f14fdfa_9360_11ea_8185_b120fc921220row0_col4\" class=\"data row0 col4\" >0.23</td>\n",
       "                        <td id=\"T_2f14fdfa_9360_11ea_8185_b120fc921220row0_col5\" class=\"data row0 col5\" >0.2</td>\n",
       "                        <td id=\"T_2f14fdfa_9360_11ea_8185_b120fc921220row0_col6\" class=\"data row0 col6\" >0.26</td>\n",
       "                        <td id=\"T_2f14fdfa_9360_11ea_8185_b120fc921220row0_col7\" class=\"data row0 col7\" >-0.54</td>\n",
       "                        <td id=\"T_2f14fdfa_9360_11ea_8185_b120fc921220row0_col8\" class=\"data row0 col8\" >-0.00041</td>\n",
       "                        <td id=\"T_2f14fdfa_9360_11ea_8185_b120fc921220row0_col9\" class=\"data row0 col9\" >-0.011</td>\n",
       "                        <td id=\"T_2f14fdfa_9360_11ea_8185_b120fc921220row0_col10\" class=\"data row0 col10\" >-0.12</td>\n",
       "                        <td id=\"T_2f14fdfa_9360_11ea_8185_b120fc921220row0_col11\" class=\"data row0 col11\" >0.00077</td>\n",
       "                        <td id=\"T_2f14fdfa_9360_11ea_8185_b120fc921220row0_col12\" class=\"data row0 col12\" >0.3</td>\n",
       "                        <td id=\"T_2f14fdfa_9360_11ea_8185_b120fc921220row0_col13\" class=\"data row0 col13\" >0.24</td>\n",
       "                        <td id=\"T_2f14fdfa_9360_11ea_8185_b120fc921220row0_col14\" class=\"data row0 col14\" >0.64</td>\n",
       "                        <td id=\"T_2f14fdfa_9360_11ea_8185_b120fc921220row0_col15\" class=\"data row0 col15\" >-0.38</td>\n",
       "                        <td id=\"T_2f14fdfa_9360_11ea_8185_b120fc921220row0_col16\" class=\"data row0 col16\" >-0.45</td>\n",
       "            </tr>\n",
       "            <tr>\n",
       "                        <th id=\"T_2f14fdfa_9360_11ea_8185_b120fc921220level0_row1\" class=\"row_heading level0 row1\" >A_ges_vibr</th>\n",
       "                        <td id=\"T_2f14fdfa_9360_11ea_8185_b120fc921220row1_col0\" class=\"data row1 col0\" >0.093</td>\n",
       "                        <td id=\"T_2f14fdfa_9360_11ea_8185_b120fc921220row1_col1\" class=\"data row1 col1\" >1</td>\n",
       "                        <td id=\"T_2f14fdfa_9360_11ea_8185_b120fc921220row1_col2\" class=\"data row1 col2\" >-0.12</td>\n",
       "                        <td id=\"T_2f14fdfa_9360_11ea_8185_b120fc921220row1_col3\" class=\"data row1 col3\" >-0.11</td>\n",
       "                        <td id=\"T_2f14fdfa_9360_11ea_8185_b120fc921220row1_col4\" class=\"data row1 col4\" >0.14</td>\n",
       "                        <td id=\"T_2f14fdfa_9360_11ea_8185_b120fc921220row1_col5\" class=\"data row1 col5\" >-0.025</td>\n",
       "                        <td id=\"T_2f14fdfa_9360_11ea_8185_b120fc921220row1_col6\" class=\"data row1 col6\" >0.049</td>\n",
       "                        <td id=\"T_2f14fdfa_9360_11ea_8185_b120fc921220row1_col7\" class=\"data row1 col7\" >-0.04</td>\n",
       "                        <td id=\"T_2f14fdfa_9360_11ea_8185_b120fc921220row1_col8\" class=\"data row1 col8\" >0.001</td>\n",
       "                        <td id=\"T_2f14fdfa_9360_11ea_8185_b120fc921220row1_col9\" class=\"data row1 col9\" >0.13</td>\n",
       "                        <td id=\"T_2f14fdfa_9360_11ea_8185_b120fc921220row1_col10\" class=\"data row1 col10\" >-0.022</td>\n",
       "                        <td id=\"T_2f14fdfa_9360_11ea_8185_b120fc921220row1_col11\" class=\"data row1 col11\" >-0.0002</td>\n",
       "                        <td id=\"T_2f14fdfa_9360_11ea_8185_b120fc921220row1_col12\" class=\"data row1 col12\" >0.016</td>\n",
       "                        <td id=\"T_2f14fdfa_9360_11ea_8185_b120fc921220row1_col13\" class=\"data row1 col13\" >0.085</td>\n",
       "                        <td id=\"T_2f14fdfa_9360_11ea_8185_b120fc921220row1_col14\" class=\"data row1 col14\" >0.11</td>\n",
       "                        <td id=\"T_2f14fdfa_9360_11ea_8185_b120fc921220row1_col15\" class=\"data row1 col15\" >0.11</td>\n",
       "                        <td id=\"T_2f14fdfa_9360_11ea_8185_b120fc921220row1_col16\" class=\"data row1 col16\" >-0.12</td>\n",
       "            </tr>\n",
       "            <tr>\n",
       "                        <th id=\"T_2f14fdfa_9360_11ea_8185_b120fc921220level0_row2\" class=\"row_heading level0 row2\" >A_ACTpos [mm]</th>\n",
       "                        <td id=\"T_2f14fdfa_9360_11ea_8185_b120fc921220row2_col0\" class=\"data row2 col0\" >-0.57</td>\n",
       "                        <td id=\"T_2f14fdfa_9360_11ea_8185_b120fc921220row2_col1\" class=\"data row2 col1\" >-0.12</td>\n",
       "                        <td id=\"T_2f14fdfa_9360_11ea_8185_b120fc921220row2_col2\" class=\"data row2 col2\" >1</td>\n",
       "                        <td id=\"T_2f14fdfa_9360_11ea_8185_b120fc921220row2_col3\" class=\"data row2 col3\" >0.69</td>\n",
       "                        <td id=\"T_2f14fdfa_9360_11ea_8185_b120fc921220row2_col4\" class=\"data row2 col4\" >-0.48</td>\n",
       "                        <td id=\"T_2f14fdfa_9360_11ea_8185_b120fc921220row2_col5\" class=\"data row2 col5\" >-0.11</td>\n",
       "                        <td id=\"T_2f14fdfa_9360_11ea_8185_b120fc921220row2_col6\" class=\"data row2 col6\" >-0.11</td>\n",
       "                        <td id=\"T_2f14fdfa_9360_11ea_8185_b120fc921220row2_col7\" class=\"data row2 col7\" >0.72</td>\n",
       "                        <td id=\"T_2f14fdfa_9360_11ea_8185_b120fc921220row2_col8\" class=\"data row2 col8\" >-1.5e-05</td>\n",
       "                        <td id=\"T_2f14fdfa_9360_11ea_8185_b120fc921220row2_col9\" class=\"data row2 col9\" >0.12</td>\n",
       "                        <td id=\"T_2f14fdfa_9360_11ea_8185_b120fc921220row2_col10\" class=\"data row2 col10\" >-0.036</td>\n",
       "                        <td id=\"T_2f14fdfa_9360_11ea_8185_b120fc921220row2_col11\" class=\"data row2 col11\" >-0.00034</td>\n",
       "                        <td id=\"T_2f14fdfa_9360_11ea_8185_b120fc921220row2_col12\" class=\"data row2 col12\" >-0.15</td>\n",
       "                        <td id=\"T_2f14fdfa_9360_11ea_8185_b120fc921220row2_col13\" class=\"data row2 col13\" >-0.51</td>\n",
       "                        <td id=\"T_2f14fdfa_9360_11ea_8185_b120fc921220row2_col14\" class=\"data row2 col14\" >-0.58</td>\n",
       "                        <td id=\"T_2f14fdfa_9360_11ea_8185_b120fc921220row2_col15\" class=\"data row2 col15\" >0.31</td>\n",
       "                        <td id=\"T_2f14fdfa_9360_11ea_8185_b120fc921220row2_col16\" class=\"data row2 col16\" >0.9</td>\n",
       "            </tr>\n",
       "            <tr>\n",
       "                        <th id=\"T_2f14fdfa_9360_11ea_8185_b120fc921220level0_row3\" class=\"row_heading level0 row3\" >DB_ACTpos [mm]</th>\n",
       "                        <td id=\"T_2f14fdfa_9360_11ea_8185_b120fc921220row3_col0\" class=\"data row3 col0\" >-0.73</td>\n",
       "                        <td id=\"T_2f14fdfa_9360_11ea_8185_b120fc921220row3_col1\" class=\"data row3 col1\" >-0.11</td>\n",
       "                        <td id=\"T_2f14fdfa_9360_11ea_8185_b120fc921220row3_col2\" class=\"data row3 col2\" >0.69</td>\n",
       "                        <td id=\"T_2f14fdfa_9360_11ea_8185_b120fc921220row3_col3\" class=\"data row3 col3\" >1</td>\n",
       "                        <td id=\"T_2f14fdfa_9360_11ea_8185_b120fc921220row3_col4\" class=\"data row3 col4\" >-0.3</td>\n",
       "                        <td id=\"T_2f14fdfa_9360_11ea_8185_b120fc921220row3_col5\" class=\"data row3 col5\" >-0.21</td>\n",
       "                        <td id=\"T_2f14fdfa_9360_11ea_8185_b120fc921220row3_col6\" class=\"data row3 col6\" >-0.12</td>\n",
       "                        <td id=\"T_2f14fdfa_9360_11ea_8185_b120fc921220row3_col7\" class=\"data row3 col7\" >0.54</td>\n",
       "                        <td id=\"T_2f14fdfa_9360_11ea_8185_b120fc921220row3_col8\" class=\"data row3 col8\" >0.00023</td>\n",
       "                        <td id=\"T_2f14fdfa_9360_11ea_8185_b120fc921220row3_col9\" class=\"data row3 col9\" >0.21</td>\n",
       "                        <td id=\"T_2f14fdfa_9360_11ea_8185_b120fc921220row3_col10\" class=\"data row3 col10\" >0.048</td>\n",
       "                        <td id=\"T_2f14fdfa_9360_11ea_8185_b120fc921220row3_col11\" class=\"data row3 col11\" >-0.00097</td>\n",
       "                        <td id=\"T_2f14fdfa_9360_11ea_8185_b120fc921220row3_col12\" class=\"data row3 col12\" >-0.19</td>\n",
       "                        <td id=\"T_2f14fdfa_9360_11ea_8185_b120fc921220row3_col13\" class=\"data row3 col13\" >-0.31</td>\n",
       "                        <td id=\"T_2f14fdfa_9360_11ea_8185_b120fc921220row3_col14\" class=\"data row3 col14\" >-0.83</td>\n",
       "                        <td id=\"T_2f14fdfa_9360_11ea_8185_b120fc921220row3_col15\" class=\"data row3 col15\" >0.35</td>\n",
       "                        <td id=\"T_2f14fdfa_9360_11ea_8185_b120fc921220row3_col16\" class=\"data row3 col16\" >0.57</td>\n",
       "            </tr>\n",
       "            <tr>\n",
       "                        <th id=\"T_2f14fdfa_9360_11ea_8185_b120fc921220level0_row4\" class=\"row_heading level0 row4\" >INDA_ACTpos [deg]</th>\n",
       "                        <td id=\"T_2f14fdfa_9360_11ea_8185_b120fc921220row4_col0\" class=\"data row4 col0\" >0.23</td>\n",
       "                        <td id=\"T_2f14fdfa_9360_11ea_8185_b120fc921220row4_col1\" class=\"data row4 col1\" >0.14</td>\n",
       "                        <td id=\"T_2f14fdfa_9360_11ea_8185_b120fc921220row4_col2\" class=\"data row4 col2\" >-0.48</td>\n",
       "                        <td id=\"T_2f14fdfa_9360_11ea_8185_b120fc921220row4_col3\" class=\"data row4 col3\" >-0.3</td>\n",
       "                        <td id=\"T_2f14fdfa_9360_11ea_8185_b120fc921220row4_col4\" class=\"data row4 col4\" >1</td>\n",
       "                        <td id=\"T_2f14fdfa_9360_11ea_8185_b120fc921220row4_col5\" class=\"data row4 col5\" >-0.0021</td>\n",
       "                        <td id=\"T_2f14fdfa_9360_11ea_8185_b120fc921220row4_col6\" class=\"data row4 col6\" >0.023</td>\n",
       "                        <td id=\"T_2f14fdfa_9360_11ea_8185_b120fc921220row4_col7\" class=\"data row4 col7\" >-0.29</td>\n",
       "                        <td id=\"T_2f14fdfa_9360_11ea_8185_b120fc921220row4_col8\" class=\"data row4 col8\" >3.1e-05</td>\n",
       "                        <td id=\"T_2f14fdfa_9360_11ea_8185_b120fc921220row4_col9\" class=\"data row4 col9\" >0.028</td>\n",
       "                        <td id=\"T_2f14fdfa_9360_11ea_8185_b120fc921220row4_col10\" class=\"data row4 col10\" >0.019</td>\n",
       "                        <td id=\"T_2f14fdfa_9360_11ea_8185_b120fc921220row4_col11\" class=\"data row4 col11\" >0.00022</td>\n",
       "                        <td id=\"T_2f14fdfa_9360_11ea_8185_b120fc921220row4_col12\" class=\"data row4 col12\" >0.062</td>\n",
       "                        <td id=\"T_2f14fdfa_9360_11ea_8185_b120fc921220row4_col13\" class=\"data row4 col13\" >0.28</td>\n",
       "                        <td id=\"T_2f14fdfa_9360_11ea_8185_b120fc921220row4_col14\" class=\"data row4 col14\" >0.24</td>\n",
       "                        <td id=\"T_2f14fdfa_9360_11ea_8185_b120fc921220row4_col15\" class=\"data row4 col15\" >-0.057</td>\n",
       "                        <td id=\"T_2f14fdfa_9360_11ea_8185_b120fc921220row4_col16\" class=\"data row4 col16\" >-0.48</td>\n",
       "            </tr>\n",
       "            <tr>\n",
       "                        <th id=\"T_2f14fdfa_9360_11ea_8185_b120fc921220level0_row5\" class=\"row_heading level0 row5\" >A_ACT_Force [kN]</th>\n",
       "                        <td id=\"T_2f14fdfa_9360_11ea_8185_b120fc921220row5_col0\" class=\"data row5 col0\" >0.2</td>\n",
       "                        <td id=\"T_2f14fdfa_9360_11ea_8185_b120fc921220row5_col1\" class=\"data row5 col1\" >-0.025</td>\n",
       "                        <td id=\"T_2f14fdfa_9360_11ea_8185_b120fc921220row5_col2\" class=\"data row5 col2\" >-0.11</td>\n",
       "                        <td id=\"T_2f14fdfa_9360_11ea_8185_b120fc921220row5_col3\" class=\"data row5 col3\" >-0.21</td>\n",
       "                        <td id=\"T_2f14fdfa_9360_11ea_8185_b120fc921220row5_col4\" class=\"data row5 col4\" >-0.0021</td>\n",
       "                        <td id=\"T_2f14fdfa_9360_11ea_8185_b120fc921220row5_col5\" class=\"data row5 col5\" >1</td>\n",
       "                        <td id=\"T_2f14fdfa_9360_11ea_8185_b120fc921220row5_col6\" class=\"data row5 col6\" >0.16</td>\n",
       "                        <td id=\"T_2f14fdfa_9360_11ea_8185_b120fc921220row5_col7\" class=\"data row5 col7\" >-0.35</td>\n",
       "                        <td id=\"T_2f14fdfa_9360_11ea_8185_b120fc921220row5_col8\" class=\"data row5 col8\" >-0.28</td>\n",
       "                        <td id=\"T_2f14fdfa_9360_11ea_8185_b120fc921220row5_col9\" class=\"data row5 col9\" >-0.43</td>\n",
       "                        <td id=\"T_2f14fdfa_9360_11ea_8185_b120fc921220row5_col10\" class=\"data row5 col10\" >-0.026</td>\n",
       "                        <td id=\"T_2f14fdfa_9360_11ea_8185_b120fc921220row5_col11\" class=\"data row5 col11\" >-0.27</td>\n",
       "                        <td id=\"T_2f14fdfa_9360_11ea_8185_b120fc921220row5_col12\" class=\"data row5 col12\" >0.0096</td>\n",
       "                        <td id=\"T_2f14fdfa_9360_11ea_8185_b120fc921220row5_col13\" class=\"data row5 col13\" >-0.14</td>\n",
       "                        <td id=\"T_2f14fdfa_9360_11ea_8185_b120fc921220row5_col14\" class=\"data row5 col14\" >0.2</td>\n",
       "                        <td id=\"T_2f14fdfa_9360_11ea_8185_b120fc921220row5_col15\" class=\"data row5 col15\" >-0.25</td>\n",
       "                        <td id=\"T_2f14fdfa_9360_11ea_8185_b120fc921220row5_col16\" class=\"data row5 col16\" >-0.039</td>\n",
       "            </tr>\n",
       "            <tr>\n",
       "                        <th id=\"T_2f14fdfa_9360_11ea_8185_b120fc921220level0_row6\" class=\"row_heading level0 row6\" >DB_ACT_Force [kN]</th>\n",
       "                        <td id=\"T_2f14fdfa_9360_11ea_8185_b120fc921220row6_col0\" class=\"data row6 col0\" >0.26</td>\n",
       "                        <td id=\"T_2f14fdfa_9360_11ea_8185_b120fc921220row6_col1\" class=\"data row6 col1\" >0.049</td>\n",
       "                        <td id=\"T_2f14fdfa_9360_11ea_8185_b120fc921220row6_col2\" class=\"data row6 col2\" >-0.11</td>\n",
       "                        <td id=\"T_2f14fdfa_9360_11ea_8185_b120fc921220row6_col3\" class=\"data row6 col3\" >-0.12</td>\n",
       "                        <td id=\"T_2f14fdfa_9360_11ea_8185_b120fc921220row6_col4\" class=\"data row6 col4\" >0.023</td>\n",
       "                        <td id=\"T_2f14fdfa_9360_11ea_8185_b120fc921220row6_col5\" class=\"data row6 col5\" >0.16</td>\n",
       "                        <td id=\"T_2f14fdfa_9360_11ea_8185_b120fc921220row6_col6\" class=\"data row6 col6\" >1</td>\n",
       "                        <td id=\"T_2f14fdfa_9360_11ea_8185_b120fc921220row6_col7\" class=\"data row6 col7\" >-0.19</td>\n",
       "                        <td id=\"T_2f14fdfa_9360_11ea_8185_b120fc921220row6_col8\" class=\"data row6 col8\" >0.079</td>\n",
       "                        <td id=\"T_2f14fdfa_9360_11ea_8185_b120fc921220row6_col9\" class=\"data row6 col9\" >-0.021</td>\n",
       "                        <td id=\"T_2f14fdfa_9360_11ea_8185_b120fc921220row6_col10\" class=\"data row6 col10\" >-0.14</td>\n",
       "                        <td id=\"T_2f14fdfa_9360_11ea_8185_b120fc921220row6_col11\" class=\"data row6 col11\" >0.18</td>\n",
       "                        <td id=\"T_2f14fdfa_9360_11ea_8185_b120fc921220row6_col12\" class=\"data row6 col12\" >0.0021</td>\n",
       "                        <td id=\"T_2f14fdfa_9360_11ea_8185_b120fc921220row6_col13\" class=\"data row6 col13\" >0.15</td>\n",
       "                        <td id=\"T_2f14fdfa_9360_11ea_8185_b120fc921220row6_col14\" class=\"data row6 col14\" >0.13</td>\n",
       "                        <td id=\"T_2f14fdfa_9360_11ea_8185_b120fc921220row6_col15\" class=\"data row6 col15\" >-0.13</td>\n",
       "                        <td id=\"T_2f14fdfa_9360_11ea_8185_b120fc921220row6_col16\" class=\"data row6 col16\" >-0.071</td>\n",
       "            </tr>\n",
       "            <tr>\n",
       "                        <th id=\"T_2f14fdfa_9360_11ea_8185_b120fc921220level0_row7\" class=\"row_heading level0 row7\" >R_ACTspd [mm/min]</th>\n",
       "                        <td id=\"T_2f14fdfa_9360_11ea_8185_b120fc921220row7_col0\" class=\"data row7 col0\" >-0.54</td>\n",
       "                        <td id=\"T_2f14fdfa_9360_11ea_8185_b120fc921220row7_col1\" class=\"data row7 col1\" >-0.04</td>\n",
       "                        <td id=\"T_2f14fdfa_9360_11ea_8185_b120fc921220row7_col2\" class=\"data row7 col2\" >0.72</td>\n",
       "                        <td id=\"T_2f14fdfa_9360_11ea_8185_b120fc921220row7_col3\" class=\"data row7 col3\" >0.54</td>\n",
       "                        <td id=\"T_2f14fdfa_9360_11ea_8185_b120fc921220row7_col4\" class=\"data row7 col4\" >-0.29</td>\n",
       "                        <td id=\"T_2f14fdfa_9360_11ea_8185_b120fc921220row7_col5\" class=\"data row7 col5\" >-0.35</td>\n",
       "                        <td id=\"T_2f14fdfa_9360_11ea_8185_b120fc921220row7_col6\" class=\"data row7 col6\" >-0.19</td>\n",
       "                        <td id=\"T_2f14fdfa_9360_11ea_8185_b120fc921220row7_col7\" class=\"data row7 col7\" >1</td>\n",
       "                        <td id=\"T_2f14fdfa_9360_11ea_8185_b120fc921220row7_col8\" class=\"data row7 col8\" >0.001</td>\n",
       "                        <td id=\"T_2f14fdfa_9360_11ea_8185_b120fc921220row7_col9\" class=\"data row7 col9\" >0.31</td>\n",
       "                        <td id=\"T_2f14fdfa_9360_11ea_8185_b120fc921220row7_col10\" class=\"data row7 col10\" >0.025</td>\n",
       "                        <td id=\"T_2f14fdfa_9360_11ea_8185_b120fc921220row7_col11\" class=\"data row7 col11\" >0.007</td>\n",
       "                        <td id=\"T_2f14fdfa_9360_11ea_8185_b120fc921220row7_col12\" class=\"data row7 col12\" >-0.15</td>\n",
       "                        <td id=\"T_2f14fdfa_9360_11ea_8185_b120fc921220row7_col13\" class=\"data row7 col13\" >-0.32</td>\n",
       "                        <td id=\"T_2f14fdfa_9360_11ea_8185_b120fc921220row7_col14\" class=\"data row7 col14\" >-0.48</td>\n",
       "                        <td id=\"T_2f14fdfa_9360_11ea_8185_b120fc921220row7_col15\" class=\"data row7 col15\" >0.42</td>\n",
       "                        <td id=\"T_2f14fdfa_9360_11ea_8185_b120fc921220row7_col16\" class=\"data row7 col16\" >0.46</td>\n",
       "            </tr>\n",
       "            <tr>\n",
       "                        <th id=\"T_2f14fdfa_9360_11ea_8185_b120fc921220level0_row8\" class=\"row_heading level0 row8\" >SBA_NomPos [mm] [mm]</th>\n",
       "                        <td id=\"T_2f14fdfa_9360_11ea_8185_b120fc921220row8_col0\" class=\"data row8 col0\" >-0.00041</td>\n",
       "                        <td id=\"T_2f14fdfa_9360_11ea_8185_b120fc921220row8_col1\" class=\"data row8 col1\" >0.001</td>\n",
       "                        <td id=\"T_2f14fdfa_9360_11ea_8185_b120fc921220row8_col2\" class=\"data row8 col2\" >-1.5e-05</td>\n",
       "                        <td id=\"T_2f14fdfa_9360_11ea_8185_b120fc921220row8_col3\" class=\"data row8 col3\" >0.00023</td>\n",
       "                        <td id=\"T_2f14fdfa_9360_11ea_8185_b120fc921220row8_col4\" class=\"data row8 col4\" >3.1e-05</td>\n",
       "                        <td id=\"T_2f14fdfa_9360_11ea_8185_b120fc921220row8_col5\" class=\"data row8 col5\" >-0.28</td>\n",
       "                        <td id=\"T_2f14fdfa_9360_11ea_8185_b120fc921220row8_col6\" class=\"data row8 col6\" >0.079</td>\n",
       "                        <td id=\"T_2f14fdfa_9360_11ea_8185_b120fc921220row8_col7\" class=\"data row8 col7\" >0.001</td>\n",
       "                        <td id=\"T_2f14fdfa_9360_11ea_8185_b120fc921220row8_col8\" class=\"data row8 col8\" >1</td>\n",
       "                        <td id=\"T_2f14fdfa_9360_11ea_8185_b120fc921220row8_col9\" class=\"data row8 col9\" >-0.0053</td>\n",
       "                        <td id=\"T_2f14fdfa_9360_11ea_8185_b120fc921220row8_col10\" class=\"data row8 col10\" >0.023</td>\n",
       "                        <td id=\"T_2f14fdfa_9360_11ea_8185_b120fc921220row8_col11\" class=\"data row8 col11\" >0.37</td>\n",
       "                        <td id=\"T_2f14fdfa_9360_11ea_8185_b120fc921220row8_col12\" class=\"data row8 col12\" >0.057</td>\n",
       "                        <td id=\"T_2f14fdfa_9360_11ea_8185_b120fc921220row8_col13\" class=\"data row8 col13\" >0.12</td>\n",
       "                        <td id=\"T_2f14fdfa_9360_11ea_8185_b120fc921220row8_col14\" class=\"data row8 col14\" >-8.8e-05</td>\n",
       "                        <td id=\"T_2f14fdfa_9360_11ea_8185_b120fc921220row8_col15\" class=\"data row8 col15\" >5.3e-05</td>\n",
       "                        <td id=\"T_2f14fdfa_9360_11ea_8185_b120fc921220row8_col16\" class=\"data row8 col16\" >7.1e-05</td>\n",
       "            </tr>\n",
       "            <tr>\n",
       "                        <th id=\"T_2f14fdfa_9360_11ea_8185_b120fc921220level0_row9\" class=\"row_heading level0 row9\" >A_ACTspd [mm/min]</th>\n",
       "                        <td id=\"T_2f14fdfa_9360_11ea_8185_b120fc921220row9_col0\" class=\"data row9 col0\" >-0.011</td>\n",
       "                        <td id=\"T_2f14fdfa_9360_11ea_8185_b120fc921220row9_col1\" class=\"data row9 col1\" >0.13</td>\n",
       "                        <td id=\"T_2f14fdfa_9360_11ea_8185_b120fc921220row9_col2\" class=\"data row9 col2\" >0.12</td>\n",
       "                        <td id=\"T_2f14fdfa_9360_11ea_8185_b120fc921220row9_col3\" class=\"data row9 col3\" >0.21</td>\n",
       "                        <td id=\"T_2f14fdfa_9360_11ea_8185_b120fc921220row9_col4\" class=\"data row9 col4\" >0.028</td>\n",
       "                        <td id=\"T_2f14fdfa_9360_11ea_8185_b120fc921220row9_col5\" class=\"data row9 col5\" >-0.43</td>\n",
       "                        <td id=\"T_2f14fdfa_9360_11ea_8185_b120fc921220row9_col6\" class=\"data row9 col6\" >-0.021</td>\n",
       "                        <td id=\"T_2f14fdfa_9360_11ea_8185_b120fc921220row9_col7\" class=\"data row9 col7\" >0.31</td>\n",
       "                        <td id=\"T_2f14fdfa_9360_11ea_8185_b120fc921220row9_col8\" class=\"data row9 col8\" >-0.0053</td>\n",
       "                        <td id=\"T_2f14fdfa_9360_11ea_8185_b120fc921220row9_col9\" class=\"data row9 col9\" >1</td>\n",
       "                        <td id=\"T_2f14fdfa_9360_11ea_8185_b120fc921220row9_col10\" class=\"data row9 col10\" >-0.062</td>\n",
       "                        <td id=\"T_2f14fdfa_9360_11ea_8185_b120fc921220row9_col11\" class=\"data row9 col11\" >-0.0018</td>\n",
       "                        <td id=\"T_2f14fdfa_9360_11ea_8185_b120fc921220row9_col12\" class=\"data row9 col12\" >0.018</td>\n",
       "                        <td id=\"T_2f14fdfa_9360_11ea_8185_b120fc921220row9_col13\" class=\"data row9 col13\" >-0.019</td>\n",
       "                        <td id=\"T_2f14fdfa_9360_11ea_8185_b120fc921220row9_col14\" class=\"data row9 col14\" >-0.21</td>\n",
       "                        <td id=\"T_2f14fdfa_9360_11ea_8185_b120fc921220row9_col15\" class=\"data row9 col15\" >0.29</td>\n",
       "                        <td id=\"T_2f14fdfa_9360_11ea_8185_b120fc921220row9_col16\" class=\"data row9 col16\" >0.11</td>\n",
       "            </tr>\n",
       "            <tr>\n",
       "                        <th id=\"T_2f14fdfa_9360_11ea_8185_b120fc921220level0_row10\" class=\"row_heading level0 row10\" >DB_ACTspd [mm/min]</th>\n",
       "                        <td id=\"T_2f14fdfa_9360_11ea_8185_b120fc921220row10_col0\" class=\"data row10 col0\" >-0.12</td>\n",
       "                        <td id=\"T_2f14fdfa_9360_11ea_8185_b120fc921220row10_col1\" class=\"data row10 col1\" >-0.022</td>\n",
       "                        <td id=\"T_2f14fdfa_9360_11ea_8185_b120fc921220row10_col2\" class=\"data row10 col2\" >-0.036</td>\n",
       "                        <td id=\"T_2f14fdfa_9360_11ea_8185_b120fc921220row10_col3\" class=\"data row10 col3\" >0.048</td>\n",
       "                        <td id=\"T_2f14fdfa_9360_11ea_8185_b120fc921220row10_col4\" class=\"data row10 col4\" >0.019</td>\n",
       "                        <td id=\"T_2f14fdfa_9360_11ea_8185_b120fc921220row10_col5\" class=\"data row10 col5\" >-0.026</td>\n",
       "                        <td id=\"T_2f14fdfa_9360_11ea_8185_b120fc921220row10_col6\" class=\"data row10 col6\" >-0.14</td>\n",
       "                        <td id=\"T_2f14fdfa_9360_11ea_8185_b120fc921220row10_col7\" class=\"data row10 col7\" >0.025</td>\n",
       "                        <td id=\"T_2f14fdfa_9360_11ea_8185_b120fc921220row10_col8\" class=\"data row10 col8\" >0.023</td>\n",
       "                        <td id=\"T_2f14fdfa_9360_11ea_8185_b120fc921220row10_col9\" class=\"data row10 col9\" >-0.062</td>\n",
       "                        <td id=\"T_2f14fdfa_9360_11ea_8185_b120fc921220row10_col10\" class=\"data row10 col10\" >1</td>\n",
       "                        <td id=\"T_2f14fdfa_9360_11ea_8185_b120fc921220row10_col11\" class=\"data row10 col11\" >0.019</td>\n",
       "                        <td id=\"T_2f14fdfa_9360_11ea_8185_b120fc921220row10_col12\" class=\"data row10 col12\" >-0.026</td>\n",
       "                        <td id=\"T_2f14fdfa_9360_11ea_8185_b120fc921220row10_col13\" class=\"data row10 col13\" >0.045</td>\n",
       "                        <td id=\"T_2f14fdfa_9360_11ea_8185_b120fc921220row10_col14\" class=\"data row10 col14\" >-0.13</td>\n",
       "                        <td id=\"T_2f14fdfa_9360_11ea_8185_b120fc921220row10_col15\" class=\"data row10 col15\" >0.036</td>\n",
       "                        <td id=\"T_2f14fdfa_9360_11ea_8185_b120fc921220row10_col16\" class=\"data row10 col16\" >-0.059</td>\n",
       "            </tr>\n",
       "            <tr>\n",
       "                        <th id=\"T_2f14fdfa_9360_11ea_8185_b120fc921220level0_row11\" class=\"row_heading level0 row11\" >Feedback SBA [%]</th>\n",
       "                        <td id=\"T_2f14fdfa_9360_11ea_8185_b120fc921220row11_col0\" class=\"data row11 col0\" >0.00077</td>\n",
       "                        <td id=\"T_2f14fdfa_9360_11ea_8185_b120fc921220row11_col1\" class=\"data row11 col1\" >-0.0002</td>\n",
       "                        <td id=\"T_2f14fdfa_9360_11ea_8185_b120fc921220row11_col2\" class=\"data row11 col2\" >-0.00034</td>\n",
       "                        <td id=\"T_2f14fdfa_9360_11ea_8185_b120fc921220row11_col3\" class=\"data row11 col3\" >-0.00097</td>\n",
       "                        <td id=\"T_2f14fdfa_9360_11ea_8185_b120fc921220row11_col4\" class=\"data row11 col4\" >0.00022</td>\n",
       "                        <td id=\"T_2f14fdfa_9360_11ea_8185_b120fc921220row11_col5\" class=\"data row11 col5\" >-0.27</td>\n",
       "                        <td id=\"T_2f14fdfa_9360_11ea_8185_b120fc921220row11_col6\" class=\"data row11 col6\" >0.18</td>\n",
       "                        <td id=\"T_2f14fdfa_9360_11ea_8185_b120fc921220row11_col7\" class=\"data row11 col7\" >0.007</td>\n",
       "                        <td id=\"T_2f14fdfa_9360_11ea_8185_b120fc921220row11_col8\" class=\"data row11 col8\" >0.37</td>\n",
       "                        <td id=\"T_2f14fdfa_9360_11ea_8185_b120fc921220row11_col9\" class=\"data row11 col9\" >-0.0018</td>\n",
       "                        <td id=\"T_2f14fdfa_9360_11ea_8185_b120fc921220row11_col10\" class=\"data row11 col10\" >0.019</td>\n",
       "                        <td id=\"T_2f14fdfa_9360_11ea_8185_b120fc921220row11_col11\" class=\"data row11 col11\" >1</td>\n",
       "                        <td id=\"T_2f14fdfa_9360_11ea_8185_b120fc921220row11_col12\" class=\"data row11 col12\" >-0.37</td>\n",
       "                        <td id=\"T_2f14fdfa_9360_11ea_8185_b120fc921220row11_col13\" class=\"data row11 col13\" >0.79</td>\n",
       "                        <td id=\"T_2f14fdfa_9360_11ea_8185_b120fc921220row11_col14\" class=\"data row11 col14\" >0.00088</td>\n",
       "                        <td id=\"T_2f14fdfa_9360_11ea_8185_b120fc921220row11_col15\" class=\"data row11 col15\" >-0.00023</td>\n",
       "                        <td id=\"T_2f14fdfa_9360_11ea_8185_b120fc921220row11_col16\" class=\"data row11 col16\" >-0.00038</td>\n",
       "            </tr>\n",
       "            <tr>\n",
       "                        <th id=\"T_2f14fdfa_9360_11ea_8185_b120fc921220level0_row12\" class=\"row_heading level0 row12\" >Frc_Volt</th>\n",
       "                        <td id=\"T_2f14fdfa_9360_11ea_8185_b120fc921220row12_col0\" class=\"data row12 col0\" >0.3</td>\n",
       "                        <td id=\"T_2f14fdfa_9360_11ea_8185_b120fc921220row12_col1\" class=\"data row12 col1\" >0.016</td>\n",
       "                        <td id=\"T_2f14fdfa_9360_11ea_8185_b120fc921220row12_col2\" class=\"data row12 col2\" >-0.15</td>\n",
       "                        <td id=\"T_2f14fdfa_9360_11ea_8185_b120fc921220row12_col3\" class=\"data row12 col3\" >-0.19</td>\n",
       "                        <td id=\"T_2f14fdfa_9360_11ea_8185_b120fc921220row12_col4\" class=\"data row12 col4\" >0.062</td>\n",
       "                        <td id=\"T_2f14fdfa_9360_11ea_8185_b120fc921220row12_col5\" class=\"data row12 col5\" >0.0096</td>\n",
       "                        <td id=\"T_2f14fdfa_9360_11ea_8185_b120fc921220row12_col6\" class=\"data row12 col6\" >0.0021</td>\n",
       "                        <td id=\"T_2f14fdfa_9360_11ea_8185_b120fc921220row12_col7\" class=\"data row12 col7\" >-0.15</td>\n",
       "                        <td id=\"T_2f14fdfa_9360_11ea_8185_b120fc921220row12_col8\" class=\"data row12 col8\" >0.057</td>\n",
       "                        <td id=\"T_2f14fdfa_9360_11ea_8185_b120fc921220row12_col9\" class=\"data row12 col9\" >0.018</td>\n",
       "                        <td id=\"T_2f14fdfa_9360_11ea_8185_b120fc921220row12_col10\" class=\"data row12 col10\" >-0.026</td>\n",
       "                        <td id=\"T_2f14fdfa_9360_11ea_8185_b120fc921220row12_col11\" class=\"data row12 col11\" >-0.37</td>\n",
       "                        <td id=\"T_2f14fdfa_9360_11ea_8185_b120fc921220row12_col12\" class=\"data row12 col12\" >1</td>\n",
       "                        <td id=\"T_2f14fdfa_9360_11ea_8185_b120fc921220row12_col13\" class=\"data row12 col13\" >-0.33</td>\n",
       "                        <td id=\"T_2f14fdfa_9360_11ea_8185_b120fc921220row12_col14\" class=\"data row12 col14\" >0.17</td>\n",
       "                        <td id=\"T_2f14fdfa_9360_11ea_8185_b120fc921220row12_col15\" class=\"data row12 col15\" >-0.11</td>\n",
       "                        <td id=\"T_2f14fdfa_9360_11ea_8185_b120fc921220row12_col16\" class=\"data row12 col16\" >-0.12</td>\n",
       "            </tr>\n",
       "            <tr>\n",
       "                        <th id=\"T_2f14fdfa_9360_11ea_8185_b120fc921220level0_row13\" class=\"row_heading level0 row13\" >Speed Vn_1 [rpm]</th>\n",
       "                        <td id=\"T_2f14fdfa_9360_11ea_8185_b120fc921220row13_col0\" class=\"data row13 col0\" >0.24</td>\n",
       "                        <td id=\"T_2f14fdfa_9360_11ea_8185_b120fc921220row13_col1\" class=\"data row13 col1\" >0.085</td>\n",
       "                        <td id=\"T_2f14fdfa_9360_11ea_8185_b120fc921220row13_col2\" class=\"data row13 col2\" >-0.51</td>\n",
       "                        <td id=\"T_2f14fdfa_9360_11ea_8185_b120fc921220row13_col3\" class=\"data row13 col3\" >-0.31</td>\n",
       "                        <td id=\"T_2f14fdfa_9360_11ea_8185_b120fc921220row13_col4\" class=\"data row13 col4\" >0.28</td>\n",
       "                        <td id=\"T_2f14fdfa_9360_11ea_8185_b120fc921220row13_col5\" class=\"data row13 col5\" >-0.14</td>\n",
       "                        <td id=\"T_2f14fdfa_9360_11ea_8185_b120fc921220row13_col6\" class=\"data row13 col6\" >0.15</td>\n",
       "                        <td id=\"T_2f14fdfa_9360_11ea_8185_b120fc921220row13_col7\" class=\"data row13 col7\" >-0.32</td>\n",
       "                        <td id=\"T_2f14fdfa_9360_11ea_8185_b120fc921220row13_col8\" class=\"data row13 col8\" >0.12</td>\n",
       "                        <td id=\"T_2f14fdfa_9360_11ea_8185_b120fc921220row13_col9\" class=\"data row13 col9\" >-0.019</td>\n",
       "                        <td id=\"T_2f14fdfa_9360_11ea_8185_b120fc921220row13_col10\" class=\"data row13 col10\" >0.045</td>\n",
       "                        <td id=\"T_2f14fdfa_9360_11ea_8185_b120fc921220row13_col11\" class=\"data row13 col11\" >0.79</td>\n",
       "                        <td id=\"T_2f14fdfa_9360_11ea_8185_b120fc921220row13_col12\" class=\"data row13 col12\" >-0.33</td>\n",
       "                        <td id=\"T_2f14fdfa_9360_11ea_8185_b120fc921220row13_col13\" class=\"data row13 col13\" >1</td>\n",
       "                        <td id=\"T_2f14fdfa_9360_11ea_8185_b120fc921220row13_col14\" class=\"data row13 col14\" >0.26</td>\n",
       "                        <td id=\"T_2f14fdfa_9360_11ea_8185_b120fc921220row13_col15\" class=\"data row13 col15\" >-0.067</td>\n",
       "                        <td id=\"T_2f14fdfa_9360_11ea_8185_b120fc921220row13_col16\" class=\"data row13 col16\" >-0.48</td>\n",
       "            </tr>\n",
       "            <tr>\n",
       "                        <th id=\"T_2f14fdfa_9360_11ea_8185_b120fc921220level0_row14\" class=\"row_heading level0 row14\" >IP_ActPos [mm]</th>\n",
       "                        <td id=\"T_2f14fdfa_9360_11ea_8185_b120fc921220row14_col0\" class=\"data row14 col0\" >0.64</td>\n",
       "                        <td id=\"T_2f14fdfa_9360_11ea_8185_b120fc921220row14_col1\" class=\"data row14 col1\" >0.11</td>\n",
       "                        <td id=\"T_2f14fdfa_9360_11ea_8185_b120fc921220row14_col2\" class=\"data row14 col2\" >-0.58</td>\n",
       "                        <td id=\"T_2f14fdfa_9360_11ea_8185_b120fc921220row14_col3\" class=\"data row14 col3\" >-0.83</td>\n",
       "                        <td id=\"T_2f14fdfa_9360_11ea_8185_b120fc921220row14_col4\" class=\"data row14 col4\" >0.24</td>\n",
       "                        <td id=\"T_2f14fdfa_9360_11ea_8185_b120fc921220row14_col5\" class=\"data row14 col5\" >0.2</td>\n",
       "                        <td id=\"T_2f14fdfa_9360_11ea_8185_b120fc921220row14_col6\" class=\"data row14 col6\" >0.13</td>\n",
       "                        <td id=\"T_2f14fdfa_9360_11ea_8185_b120fc921220row14_col7\" class=\"data row14 col7\" >-0.48</td>\n",
       "                        <td id=\"T_2f14fdfa_9360_11ea_8185_b120fc921220row14_col8\" class=\"data row14 col8\" >-8.8e-05</td>\n",
       "                        <td id=\"T_2f14fdfa_9360_11ea_8185_b120fc921220row14_col9\" class=\"data row14 col9\" >-0.21</td>\n",
       "                        <td id=\"T_2f14fdfa_9360_11ea_8185_b120fc921220row14_col10\" class=\"data row14 col10\" >-0.13</td>\n",
       "                        <td id=\"T_2f14fdfa_9360_11ea_8185_b120fc921220row14_col11\" class=\"data row14 col11\" >0.00088</td>\n",
       "                        <td id=\"T_2f14fdfa_9360_11ea_8185_b120fc921220row14_col12\" class=\"data row14 col12\" >0.17</td>\n",
       "                        <td id=\"T_2f14fdfa_9360_11ea_8185_b120fc921220row14_col13\" class=\"data row14 col13\" >0.26</td>\n",
       "                        <td id=\"T_2f14fdfa_9360_11ea_8185_b120fc921220row14_col14\" class=\"data row14 col14\" >1</td>\n",
       "                        <td id=\"T_2f14fdfa_9360_11ea_8185_b120fc921220row14_col15\" class=\"data row14 col15\" >-0.3</td>\n",
       "                        <td id=\"T_2f14fdfa_9360_11ea_8185_b120fc921220row14_col16\" class=\"data row14 col16\" >-0.48</td>\n",
       "            </tr>\n",
       "            <tr>\n",
       "                        <th id=\"T_2f14fdfa_9360_11ea_8185_b120fc921220level0_row15\" class=\"row_heading level0 row15\" >TMP_Ind_F [°C]</th>\n",
       "                        <td id=\"T_2f14fdfa_9360_11ea_8185_b120fc921220row15_col0\" class=\"data row15 col0\" >-0.38</td>\n",
       "                        <td id=\"T_2f14fdfa_9360_11ea_8185_b120fc921220row15_col1\" class=\"data row15 col1\" >0.11</td>\n",
       "                        <td id=\"T_2f14fdfa_9360_11ea_8185_b120fc921220row15_col2\" class=\"data row15 col2\" >0.31</td>\n",
       "                        <td id=\"T_2f14fdfa_9360_11ea_8185_b120fc921220row15_col3\" class=\"data row15 col3\" >0.35</td>\n",
       "                        <td id=\"T_2f14fdfa_9360_11ea_8185_b120fc921220row15_col4\" class=\"data row15 col4\" >-0.057</td>\n",
       "                        <td id=\"T_2f14fdfa_9360_11ea_8185_b120fc921220row15_col5\" class=\"data row15 col5\" >-0.25</td>\n",
       "                        <td id=\"T_2f14fdfa_9360_11ea_8185_b120fc921220row15_col6\" class=\"data row15 col6\" >-0.13</td>\n",
       "                        <td id=\"T_2f14fdfa_9360_11ea_8185_b120fc921220row15_col7\" class=\"data row15 col7\" >0.42</td>\n",
       "                        <td id=\"T_2f14fdfa_9360_11ea_8185_b120fc921220row15_col8\" class=\"data row15 col8\" >5.3e-05</td>\n",
       "                        <td id=\"T_2f14fdfa_9360_11ea_8185_b120fc921220row15_col9\" class=\"data row15 col9\" >0.29</td>\n",
       "                        <td id=\"T_2f14fdfa_9360_11ea_8185_b120fc921220row15_col10\" class=\"data row15 col10\" >0.036</td>\n",
       "                        <td id=\"T_2f14fdfa_9360_11ea_8185_b120fc921220row15_col11\" class=\"data row15 col11\" >-0.00023</td>\n",
       "                        <td id=\"T_2f14fdfa_9360_11ea_8185_b120fc921220row15_col12\" class=\"data row15 col12\" >-0.11</td>\n",
       "                        <td id=\"T_2f14fdfa_9360_11ea_8185_b120fc921220row15_col13\" class=\"data row15 col13\" >-0.067</td>\n",
       "                        <td id=\"T_2f14fdfa_9360_11ea_8185_b120fc921220row15_col14\" class=\"data row15 col14\" >-0.3</td>\n",
       "                        <td id=\"T_2f14fdfa_9360_11ea_8185_b120fc921220row15_col15\" class=\"data row15 col15\" >1</td>\n",
       "                        <td id=\"T_2f14fdfa_9360_11ea_8185_b120fc921220row15_col16\" class=\"data row15 col16\" >0.22</td>\n",
       "            </tr>\n",
       "            <tr>\n",
       "                        <th id=\"T_2f14fdfa_9360_11ea_8185_b120fc921220level0_row16\" class=\"row_heading level0 row16\" >c02w</th>\n",
       "                        <td id=\"T_2f14fdfa_9360_11ea_8185_b120fc921220row16_col0\" class=\"data row16 col0\" >-0.45</td>\n",
       "                        <td id=\"T_2f14fdfa_9360_11ea_8185_b120fc921220row16_col1\" class=\"data row16 col1\" >-0.12</td>\n",
       "                        <td id=\"T_2f14fdfa_9360_11ea_8185_b120fc921220row16_col2\" class=\"data row16 col2\" >0.9</td>\n",
       "                        <td id=\"T_2f14fdfa_9360_11ea_8185_b120fc921220row16_col3\" class=\"data row16 col3\" >0.57</td>\n",
       "                        <td id=\"T_2f14fdfa_9360_11ea_8185_b120fc921220row16_col4\" class=\"data row16 col4\" >-0.48</td>\n",
       "                        <td id=\"T_2f14fdfa_9360_11ea_8185_b120fc921220row16_col5\" class=\"data row16 col5\" >-0.039</td>\n",
       "                        <td id=\"T_2f14fdfa_9360_11ea_8185_b120fc921220row16_col6\" class=\"data row16 col6\" >-0.071</td>\n",
       "                        <td id=\"T_2f14fdfa_9360_11ea_8185_b120fc921220row16_col7\" class=\"data row16 col7\" >0.46</td>\n",
       "                        <td id=\"T_2f14fdfa_9360_11ea_8185_b120fc921220row16_col8\" class=\"data row16 col8\" >7.1e-05</td>\n",
       "                        <td id=\"T_2f14fdfa_9360_11ea_8185_b120fc921220row16_col9\" class=\"data row16 col9\" >0.11</td>\n",
       "                        <td id=\"T_2f14fdfa_9360_11ea_8185_b120fc921220row16_col10\" class=\"data row16 col10\" >-0.059</td>\n",
       "                        <td id=\"T_2f14fdfa_9360_11ea_8185_b120fc921220row16_col11\" class=\"data row16 col11\" >-0.00038</td>\n",
       "                        <td id=\"T_2f14fdfa_9360_11ea_8185_b120fc921220row16_col12\" class=\"data row16 col12\" >-0.12</td>\n",
       "                        <td id=\"T_2f14fdfa_9360_11ea_8185_b120fc921220row16_col13\" class=\"data row16 col13\" >-0.48</td>\n",
       "                        <td id=\"T_2f14fdfa_9360_11ea_8185_b120fc921220row16_col14\" class=\"data row16 col14\" >-0.48</td>\n",
       "                        <td id=\"T_2f14fdfa_9360_11ea_8185_b120fc921220row16_col15\" class=\"data row16 col15\" >0.22</td>\n",
       "                        <td id=\"T_2f14fdfa_9360_11ea_8185_b120fc921220row16_col16\" class=\"data row16 col16\" >1</td>\n",
       "            </tr>\n",
       "    </tbody></table>"
      ],
      "text/plain": [
       "<pandas.io.formats.style.Styler at 0x17d1205d438>"
      ]
     },
     "execution_count": 25,
     "metadata": {},
     "output_type": "execute_result"
    }
   ],
   "source": [
    "calculate_correlation(forging_ph_extracted) #mean values of corr coefficients for all parts"
   ]
  },
  {
   "cell_type": "code",
   "execution_count": 26,
   "metadata": {},
   "outputs": [],
   "source": [
    "#strong correlation\n",
    "forging_sensors=[forging_ph_extracted[i].drop(columns=['c02w']) for i in range(len(forging_ph_extracted))]"
   ]
  },
  {
   "cell_type": "markdown",
   "metadata": {},
   "source": [
    "The statistical summary can also help to eliminate the sensors with **low variance** and **zero variance**. Zero variance features are comprised of the same values. Low variance features arise from features with most values the same and with few unique values.  \n",
    "In addition to the statistical summary, function *plot_sensors* plots signals from the sensor recorded during the whole production process of one part (comprised of three phases: heating, transferring and forging)."
   ]
  },
  {
   "cell_type": "code",
   "execution_count": 27,
   "metadata": {},
   "outputs": [],
   "source": [
    "def plot_sensors(part):\n",
    "    column_names=part.columns\n",
    "    for column in column_names:\n",
    "        fig = plt.figure(figsize=(4,4)) # define plot area\n",
    "        plt.plot(np.arange(0,(part.shape[0]/100),0.01),part[column].values)\n",
    "        plt.xlabel(\"Time, s\")\n",
    "        plt.ylabel(column)\n",
    "        plt.show()"
   ]
  },
  {
   "cell_type": "code",
   "execution_count": 28,
   "metadata": {},
   "outputs": [
    {
     "data": {
      "image/png": "[encoded data removed]",
      "text/plain": [
       "<Figure size 288x288 with 1 Axes>"
      ]
     },
     "metadata": {
      "needs_background": "light"
     },
     "output_type": "display_data"
    },
    {
     "data": {
      "image/png": "[encoded data removed]",
      "text/plain": [
       "<Figure size 288x288 with 1 Axes>"
      ]
     },
     "metadata": {
      "needs_background": "light"
     },
     "output_type": "display_data"
    },
    {
     "data": {
      "image/png": "[encoded data removed]",
      "text/plain": [
       "<Figure size 288x288 with 1 Axes>"
      ]
     },
     "metadata": {
      "needs_background": "light"
     },
     "output_type": "display_data"
    },
    {
     "data": {
      "image/png": "[encoded data removed]",
      "text/plain": [
       "<Figure size 288x288 with 1 Axes>"
      ]
     },
     "metadata": {
      "needs_background": "light"
     },
     "output_type": "display_data"
    },
    {
     "data": {
      "image/png": "[encoded data removed]",
      "text/plain": [
       "<Figure size 288x288 with 1 Axes>"
      ]
     },
     "metadata": {
      "needs_background": "light"
     },
     "output_type": "display_data"
    },
    {
     "data": {
      "image/png": "[encoded data removed]",
      "text/plain": [
       "<Figure size 288x288 with 1 Axes>"
      ]
     },
     "metadata": {
      "needs_background": "light"
     },
     "output_type": "display_data"
    },
    {
     "data": {
      "image/png": "[encoded data removed]",
      "text/plain": [
       "<Figure size 288x288 with 1 Axes>"
      ]
     },
     "metadata": {
      "needs_background": "light"
     },
     "output_type": "display_data"
    },
    {
     "data": {
      "image/png": "[encoded data removed]",
      "text/plain": [
       "<Figure size 288x288 with 1 Axes>"
      ]
     },
     "metadata": {
      "needs_background": "light"
     },
     "output_type": "display_data"
    },
    {
     "data": {
      "image/png": "[encoded data removed]",
      "text/plain": [
       "<Figure size 288x288 with 1 Axes>"
      ]
     },
     "metadata": {
      "needs_background": "light"
     },
     "output_type": "display_data"
    },
    {
     "data": {
      "image/png": "[encoded data removed]",
      "text/plain": [
       "<Figure size 288x288 with 1 Axes>"
      ]
     },
     "metadata": {
      "needs_background": "light"
     },
     "output_type": "display_data"
    },
    {
     "data": {
      "image/png": "[encoded data removed]",
      "text/plain": [
       "<Figure size 288x288 with 1 Axes>"
      ]
     },
     "metadata": {
      "needs_background": "light"
     },
     "output_type": "display_data"
    },
    {
     "data": {
      "image/png": "[encoded data removed]",
      "text/plain": [
       "<Figure size 288x288 with 1 Axes>"
      ]
     },
     "metadata": {
      "needs_background": "light"
     },
     "output_type": "display_data"
    },
    {
     "data": {
      "image/png": "[encoded data removed]",
      "text/plain": [
       "<Figure size 288x288 with 1 Axes>"
      ]
     },
     "metadata": {
      "needs_background": "light"
     },
     "output_type": "display_data"
    },
    {
     "data": {
      "image/png": "[encoded data removed]",
      "text/plain": [
       "<Figure size 288x288 with 1 Axes>"
      ]
     },
     "metadata": {
      "needs_background": "light"
     },
     "output_type": "display_data"
    },
    {
     "data": {
      "image/png": "[encoded data removed]",
      "text/plain": [
       "<Figure size 288x288 with 1 Axes>"
      ]
     },
     "metadata": {
      "needs_background": "light"
     },
     "output_type": "display_data"
    },
    {
     "data": {
      "image/png": "[encoded data removed]",
      "text/plain": [
       "<Figure size 288x288 with 1 Axes>"
      ]
     },
     "metadata": {
      "needs_background": "light"
     },
     "output_type": "display_data"
    }
   ],
   "source": [
    "plot_sensors(forging_sensors[0])"
   ]
  },
  {
   "cell_type": "code",
   "execution_count": 29,
   "metadata": {},
   "outputs": [
    {
     "data": {
      "application/vnd.jupyter.widget-view+json": {
       "model_id": "8f7084468caf4b9b8485beb1031e04c6",
       "version_major": 2,
       "version_minor": 0
      },
      "text/plain": [
       "interactive(children=(IntSlider(value=0, description='i', max=81), Output()), _dom_classes=('widget-interact',…"
      ]
     },
     "metadata": {},
     "output_type": "display_data"
    },
    {
     "data": {
      "text/plain": [
       "<function __main__.df_summary(i)>"
      ]
     },
     "execution_count": 29,
     "metadata": {},
     "output_type": "execute_result"
    }
   ],
   "source": [
    "def df_summary(i):\n",
    "    print(\"Part\",forging_sensors[i].describe())\n",
    "interact(df_summary,i=widgets.IntSlider(min=0, max=81, step=1))  "
   ]
  },
  {
   "cell_type": "code",
   "execution_count": 38,
   "metadata": {},
   "outputs": [],
   "source": [
    "heating_sensors=heating_ph_extracted"
   ]
  },
  {
   "cell_type": "code",
   "execution_count": 32,
   "metadata": {},
   "outputs": [
    {
     "data": {
      "text/plain": [
       "(10997, 1)"
      ]
     },
     "execution_count": 32,
     "metadata": {},
     "output_type": "execute_result"
    }
   ],
   "source": [
    "heating_sensors[0].shape"
   ]
  },
  {
   "cell_type": "code",
   "execution_count": 34,
   "metadata": {},
   "outputs": [
    {
     "data": {
      "image/png": "[encoded data removed]",
      "text/plain": [
       "<Figure size 288x288 with 1 Axes>"
      ]
     },
     "metadata": {
      "needs_background": "light"
     },
     "output_type": "display_data"
    }
   ],
   "source": [
    "plot_sensors(heating_sensors[0])"
   ]
  },
  {
   "cell_type": "markdown",
   "metadata": {},
   "source": [
    "Now, data is going to be arranged in a 3D matrix, in a way that first dimension represents number of sensors, the second - number of cycles (81 cycles for 81 part produced) and the third one represents number of discrete points (measurement values)."
   ]
  },
  {
   "cell_type": "code",
   "execution_count": 35,
   "metadata": {},
   "outputs": [
    {
     "name": "stdout",
     "output_type": "stream",
     "text": [
      "Dimensions of matrix: (16, 81, 5619)\n"
     ]
    }
   ],
   "source": [
    "#split in dimensions 13x81x5619:\n",
    "forging_sensors=[np.transpose(forging_sensors[i])for i in range(len(forging_sensors))] #81x16x5619\n",
    "#define the array of sensors (16x81x5619):\n",
    "split_forging_sensors=np.zeros((forging_sensors[0].shape[0],len(forging_sensors),forging_sensors[0].shape[1]))\n",
    "#turn 81x16 into 16x81\n",
    "for i in range(forging_sensors[0].shape[0]):\n",
    "    for j in range(len(forging_sensors)):\n",
    "        xx=np.asarray(forging_sensors[j])\n",
    "        split_forging_sensors[i,j]=xx[i]\n",
    "print(\"Dimensions of matrix:\", split_forging_sensors.shape)"
   ]
  },
  {
   "cell_type": "code",
   "execution_count": 39,
   "metadata": {},
   "outputs": [
    {
     "name": "stdout",
     "output_type": "stream",
     "text": [
      "Dimensions of matrix: (1, 81, 10997)\n"
     ]
    }
   ],
   "source": [
    "#split in dimensions 2x81x10997:\n",
    "heating_sensors=[np.transpose(heating_sensors[i])for i in range(len(heating_sensors))] #81x1x10997\n",
    "#define the array of sensors (1x81x10997):\n",
    "split_heating_sensors=np.zeros((heating_sensors[0].shape[0],len(heating_sensors),heating_sensors[0].shape[1]))\n",
    "#turn 81x1 into 2x81\n",
    "for i in range(heating_sensors[0].shape[0]):\n",
    "    for j in range(len(heating_sensors)):\n",
    "        xx=np.asarray(heating_sensors[j])\n",
    "        split_heating_sensors[i,j]=xx[i]\n",
    "print(\"Dimensions of matrix:\", split_heating_sensors.shape)"
   ]
  },
  {
   "cell_type": "code",
   "execution_count": 40,
   "metadata": {},
   "outputs": [
    {
     "data": {
      "application/vnd.jupyter.widget-view+json": {
       "model_id": "5f9906e9895b4f3d86fae14b96c72525",
       "version_major": 2,
       "version_minor": 0
      },
      "text/plain": [
       "interactive(children=(IntSlider(value=0, description='num_of_sensor', max=14), IntSlider(value=0, description=…"
      ]
     },
     "metadata": {},
     "output_type": "display_data"
    },
    {
     "data": {
      "text/plain": [
       "<function __main__.plot_density_hist_forge(num_of_sensor, time)>"
      ]
     },
     "execution_count": 40,
     "metadata": {},
     "output_type": "execute_result"
    }
   ],
   "source": [
    "def plot_density_hist_forge(num_of_sensor,time):\n",
    "    sns.set_style(\"whitegrid\")\n",
    "    sns.distplot(split_forging_sensors[num_of_sensor,:,time], bins = 5, rug=True, hist = True)\n",
    "     # Give the plot a main title\n",
    "         # Set text for the x axis\n",
    "    plt.title(\"Histogram of\"+\" \"+forging_sensors[0].index[num_of_sensor])\n",
    "    plt.show()\n",
    "interact(plot_density_hist_forge,num_of_sensor=widgets.IntSlider(min=0, max=16, step=1),time=widgets.IntSlider(min=0, max=5619, step=1))"
   ]
  },
  {
   "cell_type": "code",
   "execution_count": 41,
   "metadata": {},
   "outputs": [
    {
     "data": {
      "application/vnd.jupyter.widget-view+json": {
       "model_id": "113df9dfcc1845408f3b047d133ed792",
       "version_major": 2,
       "version_minor": 0
      },
      "text/plain": [
       "interactive(children=(IntSlider(value=0, description='num_of_sensor', max=2), IntSlider(value=0, description='…"
      ]
     },
     "metadata": {},
     "output_type": "display_data"
    },
    {
     "data": {
      "text/plain": [
       "<function __main__.plot_density_hist_heat(num_of_sensor, time)>"
      ]
     },
     "execution_count": 41,
     "metadata": {},
     "output_type": "execute_result"
    }
   ],
   "source": [
    "def plot_density_hist_heat(num_of_sensor,time):\n",
    "    sns.set_style(\"whitegrid\")\n",
    "    sns.distplot(split_heating_sensors[num_of_sensor,:,time], bins = 5, rug=True, hist = True)\n",
    "     # Give the plot a main title\n",
    "         # Set text for the x axis\n",
    "    plt.title(\"Histogram of\"+\" \"+heating_sensors[0].index[num_of_sensor])\n",
    "    plt.show()\n",
    "interact(plot_density_hist_heat,num_of_sensor=widgets.IntSlider(min=0, max=1, step=1),time=widgets.IntSlider(min=0, max=10997, step=1))\n"
   ]
  },
  {
   "cell_type": "markdown",
   "metadata": {},
   "source": [
    "For each sensor, 20 s interval around midpoint is extracted and will be used in the next steps."
   ]
  },
  {
   "cell_type": "code",
   "execution_count": 42,
   "metadata": {},
   "outputs": [],
   "source": [
    "hf_forge = h5py.File('forge_sensors.h5', 'w')\n",
    "hf_heat=h5py.File('heating_sensors.h5', 'w')"
   ]
  },
  {
   "cell_type": "markdown",
   "metadata": {},
   "source": [
    "These sensors are saved separately for the use in the following notebooks."
   ]
  },
  {
   "cell_type": "code",
   "execution_count": 43,
   "metadata": {},
   "outputs": [
    {
     "data": {
      "text/plain": [
       "[<HDF5 dataset \"Sensor0\": shape (81, 2000), type \"<f8\">,\n",
       " <HDF5 dataset \"Sensor1\": shape (81, 2000), type \"<f8\">,\n",
       " <HDF5 dataset \"Sensor2\": shape (81, 2000), type \"<f8\">,\n",
       " <HDF5 dataset \"Sensor3\": shape (81, 2000), type \"<f8\">,\n",
       " <HDF5 dataset \"Sensor4\": shape (81, 2000), type \"<f8\">,\n",
       " <HDF5 dataset \"Sensor5\": shape (81, 2000), type \"<f8\">,\n",
       " <HDF5 dataset \"Sensor6\": shape (81, 2000), type \"<f8\">,\n",
       " <HDF5 dataset \"Sensor7\": shape (81, 2000), type \"<f8\">,\n",
       " <HDF5 dataset \"Sensor8\": shape (81, 2000), type \"<f8\">,\n",
       " <HDF5 dataset \"Sensor9\": shape (81, 2000), type \"<f8\">,\n",
       " <HDF5 dataset \"Sensor10\": shape (81, 2000), type \"<f8\">,\n",
       " <HDF5 dataset \"Sensor11\": shape (81, 2000), type \"<f8\">,\n",
       " <HDF5 dataset \"Sensor12\": shape (81, 2000), type \"<f8\">,\n",
       " <HDF5 dataset \"Sensor13\": shape (81, 2000), type \"<f8\">,\n",
       " <HDF5 dataset \"Sensor14\": shape (81, 2000), type \"<f8\">,\n",
       " <HDF5 dataset \"Sensor15\": shape (81, 2000), type \"<f8\">]"
      ]
     },
     "execution_count": 43,
     "metadata": {},
     "output_type": "execute_result"
    }
   ],
   "source": [
    "[hf_forge.create_dataset('Sensor'+str(i),data=split_forging_sensors[i][:,1809:3809]) for i in range(len(split_forging_sensors))]"
   ]
  },
  {
   "cell_type": "code",
   "execution_count": 44,
   "metadata": {},
   "outputs": [
    {
     "data": {
      "text/plain": [
       "[<HDF5 dataset \"Sensor0\": shape (81, 2000), type \"<f8\">]"
      ]
     },
     "execution_count": 44,
     "metadata": {},
     "output_type": "execute_result"
    }
   ],
   "source": [
    "[hf_heat.create_dataset('Sensor'+str(i),data=split_heating_sensors[i][:,4498:6498]) for i in range(len(split_heating_sensors))]"
   ]
  },
  {
   "cell_type": "code",
   "execution_count": 45,
   "metadata": {},
   "outputs": [],
   "source": [
    "hf_forge.close()"
   ]
  },
  {
   "cell_type": "code",
   "execution_count": 46,
   "metadata": {},
   "outputs": [],
   "source": [
    "hf_heat.close()"
   ]
  },
  {
   "cell_type": "markdown",
   "metadata": {},
   "source": [
    "Now, a white noise $\\epsilon$ is added to the observed part of the signals (20 s):\n",
    "\n",
    "$$x_{n}(t) = x(t)+\\epsilon$$\n",
    "\n",
    "\n",
    "A white noise is defined with normal distribution - \n",
    "\n",
    "White noise has normal distribution ${\\mathcal {N}}(0 ,\\sigma ^{2})$, where $\\sigma ^{2}$ represents variance. The process of adding a white noise is as follows:\n",
    "* Step1: For each sensor, a mean value for the centered part of the signals is calculated. \n",
    "* Step2: Standard deviation $\\sigma$ of a white noise is defined as 1% of the mean value calculated in the Step 1.\n",
    "This has been done separately for forging and heating sensors."
   ]
  },
  {
   "cell_type": "code",
   "execution_count": 47,
   "metadata": {},
   "outputs": [],
   "source": [
    "mean_value_forge= [split_forging_sensors[i][:,1809:3809].mean() for i in range(len(split_forging_sensors))]\n",
    "white_noise_forge=[np.random.randn(2000)*0.01*(mean_value_forge[i]) for i in range(len(split_forging_sensors))]\n",
    "\n",
    "mean_value_heat= [split_heating_sensors[i][:,4498:6498].mean() for i in range(len(split_heating_sensors))]\n",
    "white_noise_heat=[np.random.randn(2000)*0.01*(mean_value_heat[i]) for i in range(len(split_heating_sensors))]"
   ]
  },
  {
   "cell_type": "markdown",
   "metadata": {},
   "source": [
    "White noise signal is plotted together with original signal to observe if the value of variance can be correctly used for each sensor."
   ]
  },
  {
   "cell_type": "code",
   "execution_count": 48,
   "metadata": {},
   "outputs": [
    {
     "data": {
      "application/vnd.jupyter.widget-view+json": {
       "model_id": "b65372aa30e649c3b6299edc043407e6",
       "version_major": 2,
       "version_minor": 0
      },
      "text/plain": [
       "interactive(children=(IntSlider(value=0, description='num_of_sensor', max=14), IntSlider(value=0, description=…"
      ]
     },
     "metadata": {},
     "output_type": "display_data"
    },
    {
     "data": {
      "text/plain": [
       "<function __main__.plot_white_noise_forge(num_of_sensor, part)>"
      ]
     },
     "execution_count": 48,
     "metadata": {},
     "output_type": "execute_result"
    }
   ],
   "source": [
    "def plot_white_noise_forge(num_of_sensor,part):\n",
    "    \n",
    "    fig = plt.figure(figsize=(7,7)) # define plot area\n",
    "    plt.plot(np.arange(0,20,0.01),white_noise_forge[num_of_sensor],label=\"white noise\")\n",
    "    plt.plot(np.arange(0,20,0.01),split_forging_sensors[num_of_sensor][part,1809:3809], label=\"original signal\")\n",
    "    plt.xlabel(\"Time, s\")\n",
    "    plt.ylabel(forging_sensors[0].index[num_of_sensor])\n",
    "    plt.legend()\n",
    "    plt.show()\n",
    "interact(plot_white_noise_forge,num_of_sensor=widgets.IntSlider(min=0, max=16, step=1),part=widgets.IntSlider(min=0, max=81, step=1))\n"
   ]
  },
  {
   "cell_type": "code",
   "execution_count": 50,
   "metadata": {},
   "outputs": [
    {
     "data": {
      "application/vnd.jupyter.widget-view+json": {
       "model_id": "2a1bd12b9e5c456cb0999cc0cb0d4917",
       "version_major": 2,
       "version_minor": 0
      },
      "text/plain": [
       "interactive(children=(IntSlider(value=0, description='num_of_sensor', max=1), IntSlider(value=0, description='…"
      ]
     },
     "metadata": {},
     "output_type": "display_data"
    },
    {
     "data": {
      "text/plain": [
       "<function __main__.plot_white_noise_heat(num_of_sensor, part)>"
      ]
     },
     "execution_count": 50,
     "metadata": {},
     "output_type": "execute_result"
    }
   ],
   "source": [
    "def plot_white_noise_heat(num_of_sensor,part):\n",
    "    \n",
    "    fig = plt.figure(figsize=(7,7)) # define plot area\n",
    "    plt.plot(np.arange(0,20,0.01),white_noise_heat[num_of_sensor],label=\"white noise\")\n",
    "    plt.plot(np.arange(0,20,0.01),split_heating_sensors[num_of_sensor][part,4498:6498], label=\"original signal\")\n",
    "    plt.xlabel(\"Time, s\")\n",
    "    plt.ylabel(heating_sensors[0].index[num_of_sensor])\n",
    "    plt.legend()\n",
    "    plt.show()\n",
    "interact(plot_white_noise_heat,num_of_sensor=widgets.IntSlider(min=0, max=1, step=1),part=widgets.IntSlider(min=0, max=81, step=1))\n"
   ]
  },
  {
   "cell_type": "markdown",
   "metadata": {},
   "source": [
    "After an insight through plots, white noise signals are added to the original signals from sensors."
   ]
  },
  {
   "cell_type": "code",
   "execution_count": 51,
   "metadata": {},
   "outputs": [],
   "source": [
    "#adding white noise\n",
    "def add_white_noise(sensors,white_noise,start,end):\n",
    "    sensors_with_noise=[sensors[i][:,start:end]+ white_noise[i] for i in range(len(sensors))]   \n",
    "    return sensors_with_noise"
   ]
  },
  {
   "cell_type": "code",
   "execution_count": 52,
   "metadata": {},
   "outputs": [],
   "source": [
    "sensors_with_noise_forge=add_white_noise(split_forging_sensors,white_noise_forge,1809,3809)\n",
    "sensors_with_noise_heat=add_white_noise(split_heating_sensors,white_noise_heat,4498,6498)"
   ]
  },
  {
   "cell_type": "code",
   "execution_count": 54,
   "metadata": {},
   "outputs": [
    {
     "data": {
      "application/vnd.jupyter.widget-view+json": {
       "model_id": "d60750ca1085489a89ba2353e26660f4",
       "version_major": 2,
       "version_minor": 0
      },
      "text/plain": [
       "interactive(children=(IntSlider(value=0, description='num_of_sensor', max=16), IntSlider(value=0, description=…"
      ]
     },
     "metadata": {},
     "output_type": "display_data"
    },
    {
     "data": {
      "text/plain": [
       "<function __main__.plot_signal_with_noise_forge(num_of_sensor, part)>"
      ]
     },
     "execution_count": 54,
     "metadata": {},
     "output_type": "execute_result"
    }
   ],
   "source": [
    "def plot_signal_with_noise_forge(num_of_sensor,part):\n",
    "    fig = plt.figure(figsize=(7,7)) # define plot area\n",
    "    plt.plot(np.arange(0,20,0.01),sensors_with_noise_forge[num_of_sensor][part],label=\" Signal with white noise\")\n",
    "    plt.plot(np.arange(0,20,0.01),split_forging_sensors[num_of_sensor][part,1809:3809], label=\"Original signal\")\n",
    "    plt.xlabel(\"Time, s\")\n",
    "    plt.ylabel(forging_sensors[0].index[num_of_sensor])\n",
    "    plt.legend()\n",
    "    plt.show()\n",
    "interact(plot_signal_with_noise_forge,num_of_sensor=widgets.IntSlider(min=0, max=16, step=1),part=widgets.IntSlider(min=0, max=81, step=1))\n"
   ]
  },
  {
   "cell_type": "code",
   "execution_count": null,
   "metadata": {},
   "outputs": [],
   "source": [
    "def plot_signal_with_noise_heat(num_of_sensor,part):\n",
    "    fig = plt.figure(figsize=(7,7)) # define plot area\n",
    "    plt.plot(np.arange(0,20,0.01),sensors_with_noise_heat[num_of_sensor][part],label=\"Signal with white noise\")\n",
    "    plt.plot(np.arange(0,20,0.01),split_heating_sensors[num_of_sensor][part,4498:6498], label=\"Original signal\")\n",
    "    plt.xlabel(\"Time, s\")\n",
    "    plt.ylabel(heating_sensors[0].index[num_of_sensor])\n",
    "    plt.legend()\n",
    "    plt.show()\n",
    "interact(plot_signal_with_noise_heat,num_of_sensor=widgets.IntSlider(min=0, max=1, step=1),part=widgets.IntSlider(min=0, max=81, step=1))\n"
   ]
  },
  {
   "cell_type": "code",
   "execution_count": null,
   "metadata": {},
   "outputs": [],
   "source": [
    "forging_sensors[0].index"
   ]
  },
  {
   "cell_type": "code",
   "execution_count": null,
   "metadata": {},
   "outputs": [],
   "source": [
    "time=20\n",
    "n_of_sampling_points=2000\n",
    "freq = np.fft.rfftfreq(n_of_sampling_points, float(time)/n_of_sampling_points)   # frequency axis\n",
    "amp = np.fft.rfft(sensors_with_noise_forge[0][0])   "
   ]
  },
  {
   "cell_type": "markdown",
   "metadata": {},
   "source": [
    "# END"
   ]
  },
  {
   "cell_type": "code",
   "execution_count": null,
   "metadata": {},
   "outputs": [],
   "source": [
    "m=sensors_with_noise_forge[0][0].size"
   ]
  },
  {
   "cell_type": "code",
   "execution_count": null,
   "metadata": {},
   "outputs": [],
   "source": [
    "\n"
   ]
  },
  {
   "cell_type": "code",
   "execution_count": null,
   "metadata": {},
   "outputs": [],
   "source": [
    "w = np.fft.rfft(sensors_with_noise_forge[0][0] * signal.get_window(\"hamming\", m))"
   ]
  },
  {
   "cell_type": "code",
   "execution_count": null,
   "metadata": {},
   "outputs": [],
   "source": [
    "plt.plot(np.arange(2000),sensors_with_noise_forge[0][0] * signal.get_window(\"hamming\", m))"
   ]
  },
  {
   "cell_type": "code",
   "execution_count": null,
   "metadata": {},
   "outputs": [],
   "source": [
    "time=20\n",
    "n_of_sampling_points=2000\n",
    "freq = np.fft.rfftfreq(n_of_sampling_points, float(time)/n_of_sampling_points)   # frequency axis"
   ]
  },
  {
   "cell_type": "code",
   "execution_count": null,
   "metadata": {},
   "outputs": [],
   "source": [
    "fig = plt.figure(figsize=(15,5))\n",
    "plt.plot(freq, 20*np.log10(np.abs(w)))\n",
    "plt.xlabel(\"Frequency (Hz)\")  \n",
    "plt.ylabel(\"Amplitude (Pa)\")  "
   ]
  },
  {
   "cell_type": "code",
   "execution_count": null,
   "metadata": {},
   "outputs": [],
   "source": [
    "fig = plt.figure(figsize=(15,5))\n",
    "\n",
    "plt.plot(freq, (np.abs(w)))\n",
    "plt.xlabel(\"Frequency (Hz)\")  \n",
    "plt.ylabel(\"Amplitude (Pa)\")  "
   ]
  },
  {
   "cell_type": "code",
   "execution_count": null,
   "metadata": {},
   "outputs": [],
   "source": [
    "plt.plot(np.arange(0,20,0.01),sensors_with_noise_forge[0][0], label=\"Real values\")\n",
    "plt.ylabel(\"Microphone (Pa)\")\n",
    "plt.xlabel(\"Time (s)\")"
   ]
  },
  {
   "cell_type": "code",
   "execution_count": null,
   "metadata": {},
   "outputs": [],
   "source": [
    "fig = plt.figure(figsize=(15,5))\n",
    "plt.plot(freq,np.abs(amp))\n",
    "plt.xlabel(\"Frequency (Hz)\")  \n",
    "plt.ylabel(\"Amplitude (Pa)\")  "
   ]
  },
  {
   "cell_type": "code",
   "execution_count": null,
   "metadata": {},
   "outputs": [],
   "source": [
    "time=20\n",
    "n_of_sampling_points=2000\n",
    "freq = np.fft.rfftfreq(n_of_sampling_points, float(time)/n_of_sampling_points)   # frequency axis\n",
    "amp = np.fft.rfft(sensors_with_noise_heat[0][0])   "
   ]
  },
  {
   "cell_type": "code",
   "execution_count": null,
   "metadata": {},
   "outputs": [],
   "source": [
    "plt.plot(np.arange(0,20,0.01),sensors_with_noise_heat[0][0], label=\"Real values\")\n",
    "plt.ylabel(\"Microphone (Pa)\")\n",
    "plt.xlabel(\"Time (s)\")"
   ]
  },
  {
   "cell_type": "code",
   "execution_count": null,
   "metadata": {},
   "outputs": [],
   "source": [
    "fig = plt.figure(figsize=(15,5))\n",
    "plt.plot(freq,np.abs(amp))\n",
    "plt.xlabel(\"Frequency (Hz)\")  \n",
    "plt.ylabel(\"Amplitude (Pa)\")  "
   ]
  },
  {
   "cell_type": "code",
   "execution_count": null,
   "metadata": {},
   "outputs": [],
   "source": []
  }
 ],
 "metadata": {
  "kernelspec": {
   "display_name": "Python 3",
   "language": "python",
   "name": "python3"
  },
  "language_info": {
   "codemirror_mode": {
    "name": "ipython",
    "version": 3
   },
   "file_extension": ".py",
   "mimetype": "text/x-python",
   "name": "python",
   "nbconvert_exporter": "python",
   "pygments_lexer": "ipython3",
   "version": "3.7.3"
  }
 },
 "nbformat": 4,
 "nbformat_minor": 2
}
